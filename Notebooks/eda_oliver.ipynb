{
 "cells": [
  {
   "cell_type": "code",
   "execution_count": 1,
   "metadata": {},
   "outputs": [],
   "source": [
    "import pandas as pd\n",
    "import numpy as np\n",
    "import matplotlib.pyplot as plt\n",
    "import seaborn as sns\n",
    "import re"
   ]
  },
  {
   "cell_type": "markdown",
   "metadata": {},
   "source": [
    "# Daten einlesen"
   ]
  },
  {
   "cell_type": "code",
   "execution_count": 2,
   "metadata": {},
   "outputs": [
    {
     "name": "stderr",
     "output_type": "stream",
     "text": [
      "C:\\Users\\olive\\AppData\\Local\\Temp\\ipykernel_23752\\3632343782.py:1: DtypeWarning: Columns (3,4,5,6,11,13,14,15,16,17,18,19,20,21,22,23,24,25,26,27,28,29,30,31,32,33,34,35,36,37,38,39,40,41,42,43,45,46,47,49,50,107,110,114,115,116,119,120,121,124,125,126,128,131,132) have mixed types. Specify dtype option on import or set low_memory=False.\n",
      "  df = pd.read_csv('../data/immo_data_202208_v2.csv')\n"
     ]
    },
    {
     "data": {
      "text/html": [
       "<div>\n",
       "<style scoped>\n",
       "    .dataframe tbody tr th:only-of-type {\n",
       "        vertical-align: middle;\n",
       "    }\n",
       "\n",
       "    .dataframe tbody tr th {\n",
       "        vertical-align: top;\n",
       "    }\n",
       "\n",
       "    .dataframe thead th {\n",
       "        text-align: right;\n",
       "    }\n",
       "</style>\n",
       "<table border=\"1\" class=\"dataframe\">\n",
       "  <thead>\n",
       "    <tr style=\"text-align: right;\">\n",
       "      <th></th>\n",
       "      <th>Unnamed: 0.1</th>\n",
       "      <th>Unnamed: 0</th>\n",
       "      <th>Municipality</th>\n",
       "      <th>Living space</th>\n",
       "      <th>Plot area</th>\n",
       "      <th>Floor space</th>\n",
       "      <th>Availability</th>\n",
       "      <th>location</th>\n",
       "      <th>description</th>\n",
       "      <th>detailed_description</th>\n",
       "      <th>...</th>\n",
       "      <th>features</th>\n",
       "      <th>description_detailed</th>\n",
       "      <th>Floor space:</th>\n",
       "      <th>Number of floors:</th>\n",
       "      <th>Volume:</th>\n",
       "      <th>plz</th>\n",
       "      <th>Number of toilets:</th>\n",
       "      <th>Gross yield:</th>\n",
       "      <th>Minimum floor space:</th>\n",
       "      <th>space_cleaned</th>\n",
       "    </tr>\n",
       "  </thead>\n",
       "  <tbody>\n",
       "    <tr>\n",
       "      <th>0</th>\n",
       "      <td>0</td>\n",
       "      <td>0</td>\n",
       "      <td>Biberstein</td>\n",
       "      <td>100 m²</td>\n",
       "      <td>NaN</td>\n",
       "      <td>NaN</td>\n",
       "      <td>On request</td>\n",
       "      <td>5023 Biberstein, AG</td>\n",
       "      <td>3.5 rooms, 100 m²«Luxuriöse Attika-Wohnung mit...</td>\n",
       "      <td>DescriptionLuxuriöse Attika-Wohnung direkt an ...</td>\n",
       "      <td>...</td>\n",
       "      <td>NaN</td>\n",
       "      <td>NaN</td>\n",
       "      <td>NaN</td>\n",
       "      <td>NaN</td>\n",
       "      <td>NaN</td>\n",
       "      <td>5023.0</td>\n",
       "      <td>NaN</td>\n",
       "      <td>NaN</td>\n",
       "      <td>NaN</td>\n",
       "      <td>NaN</td>\n",
       "    </tr>\n",
       "    <tr>\n",
       "      <th>1</th>\n",
       "      <td>1</td>\n",
       "      <td>1</td>\n",
       "      <td>Biberstein</td>\n",
       "      <td>156 m²</td>\n",
       "      <td>222 m²</td>\n",
       "      <td>242 m²</td>\n",
       "      <td>On request</td>\n",
       "      <td>Buhldenstrasse 8d5023 Biberstein, AG</td>\n",
       "      <td>4.5 rooms, 156 m²«Stilvolle Liegenschaft - ruh...</td>\n",
       "      <td>DescriptionStilvolle Liegenschaft an ruhiger L...</td>\n",
       "      <td>...</td>\n",
       "      <td>NaN</td>\n",
       "      <td>NaN</td>\n",
       "      <td>NaN</td>\n",
       "      <td>NaN</td>\n",
       "      <td>NaN</td>\n",
       "      <td>5023.0</td>\n",
       "      <td>NaN</td>\n",
       "      <td>NaN</td>\n",
       "      <td>NaN</td>\n",
       "      <td>NaN</td>\n",
       "    </tr>\n",
       "    <tr>\n",
       "      <th>2</th>\n",
       "      <td>2</td>\n",
       "      <td>2</td>\n",
       "      <td>NaN</td>\n",
       "      <td>NaN</td>\n",
       "      <td>NaN</td>\n",
       "      <td>NaN</td>\n",
       "      <td>NaN</td>\n",
       "      <td>5022 Rombach, AG</td>\n",
       "      <td>2.5 rooms, 93 m²«Moderne, lichtdurchflutete At...</td>\n",
       "      <td>detail_responsive#description_title2,5 Zimmerw...</td>\n",
       "      <td>...</td>\n",
       "      <td>NaN</td>\n",
       "      <td>NaN</td>\n",
       "      <td>NaN</td>\n",
       "      <td>NaN</td>\n",
       "      <td>NaN</td>\n",
       "      <td>5022.0</td>\n",
       "      <td>NaN</td>\n",
       "      <td>NaN</td>\n",
       "      <td>NaN</td>\n",
       "      <td>NaN</td>\n",
       "    </tr>\n",
       "    <tr>\n",
       "      <th>3</th>\n",
       "      <td>3</td>\n",
       "      <td>3</td>\n",
       "      <td>Biberstein</td>\n",
       "      <td>154 m²</td>\n",
       "      <td>370 m²</td>\n",
       "      <td>257 m²</td>\n",
       "      <td>On request</td>\n",
       "      <td>Buhaldenstrasse 8A5023 Biberstein, AG</td>\n",
       "      <td>4.5 rooms, 154 m²«AgentSelly - Luxuriöses Eckh...</td>\n",
       "      <td>DescriptionDieses äusserst grosszügige Minergi...</td>\n",
       "      <td>...</td>\n",
       "      <td>NaN</td>\n",
       "      <td>NaN</td>\n",
       "      <td>NaN</td>\n",
       "      <td>NaN</td>\n",
       "      <td>NaN</td>\n",
       "      <td>5023.0</td>\n",
       "      <td>NaN</td>\n",
       "      <td>NaN</td>\n",
       "      <td>NaN</td>\n",
       "      <td>NaN</td>\n",
       "    </tr>\n",
       "    <tr>\n",
       "      <th>4</th>\n",
       "      <td>4</td>\n",
       "      <td>4</td>\n",
       "      <td>Küttigen</td>\n",
       "      <td>142 m²</td>\n",
       "      <td>NaN</td>\n",
       "      <td>NaN</td>\n",
       "      <td>On request</td>\n",
       "      <td>5022 Rombach, AG</td>\n",
       "      <td>4.5 rooms, 142 m²«MIT GARTENSITZPLATZ UND VIEL...</td>\n",
       "      <td>DescriptionAus ehemals zwei Wohnungen wurde ei...</td>\n",
       "      <td>...</td>\n",
       "      <td>NaN</td>\n",
       "      <td>NaN</td>\n",
       "      <td>NaN</td>\n",
       "      <td>NaN</td>\n",
       "      <td>NaN</td>\n",
       "      <td>5022.0</td>\n",
       "      <td>NaN</td>\n",
       "      <td>NaN</td>\n",
       "      <td>NaN</td>\n",
       "      <td>NaN</td>\n",
       "    </tr>\n",
       "  </tbody>\n",
       "</table>\n",
       "<p>5 rows × 134 columns</p>\n",
       "</div>"
      ],
      "text/plain": [
       "   Unnamed: 0.1  Unnamed: 0 Municipality Living space Plot area Floor space  \\\n",
       "0             0           0   Biberstein       100 m²       NaN         NaN   \n",
       "1             1           1   Biberstein       156 m²    222 m²      242 m²   \n",
       "2             2           2          NaN          NaN       NaN         NaN   \n",
       "3             3           3   Biberstein       154 m²    370 m²      257 m²   \n",
       "4             4           4     Küttigen       142 m²       NaN         NaN   \n",
       "\n",
       "  Availability                               location  \\\n",
       "0   On request                    5023 Biberstein, AG   \n",
       "1   On request   Buhldenstrasse 8d5023 Biberstein, AG   \n",
       "2          NaN                       5022 Rombach, AG   \n",
       "3   On request  Buhaldenstrasse 8A5023 Biberstein, AG   \n",
       "4   On request                       5022 Rombach, AG   \n",
       "\n",
       "                                         description  \\\n",
       "0  3.5 rooms, 100 m²«Luxuriöse Attika-Wohnung mit...   \n",
       "1  4.5 rooms, 156 m²«Stilvolle Liegenschaft - ruh...   \n",
       "2  2.5 rooms, 93 m²«Moderne, lichtdurchflutete At...   \n",
       "3  4.5 rooms, 154 m²«AgentSelly - Luxuriöses Eckh...   \n",
       "4  4.5 rooms, 142 m²«MIT GARTENSITZPLATZ UND VIEL...   \n",
       "\n",
       "                                detailed_description  ... features  \\\n",
       "0  DescriptionLuxuriöse Attika-Wohnung direkt an ...  ...      NaN   \n",
       "1  DescriptionStilvolle Liegenschaft an ruhiger L...  ...      NaN   \n",
       "2  detail_responsive#description_title2,5 Zimmerw...  ...      NaN   \n",
       "3  DescriptionDieses äusserst grosszügige Minergi...  ...      NaN   \n",
       "4  DescriptionAus ehemals zwei Wohnungen wurde ei...  ...      NaN   \n",
       "\n",
       "  description_detailed Floor space: Number of floors: Volume:     plz  \\\n",
       "0                  NaN          NaN               NaN     NaN  5023.0   \n",
       "1                  NaN          NaN               NaN     NaN  5023.0   \n",
       "2                  NaN          NaN               NaN     NaN  5022.0   \n",
       "3                  NaN          NaN               NaN     NaN  5023.0   \n",
       "4                  NaN          NaN               NaN     NaN  5022.0   \n",
       "\n",
       "  Number of toilets: Gross yield: Minimum floor space: space_cleaned  \n",
       "0                NaN          NaN                  NaN           NaN  \n",
       "1                NaN          NaN                  NaN           NaN  \n",
       "2                NaN          NaN                  NaN           NaN  \n",
       "3                NaN          NaN                  NaN           NaN  \n",
       "4                NaN          NaN                  NaN           NaN  \n",
       "\n",
       "[5 rows x 134 columns]"
      ]
     },
     "execution_count": 2,
     "metadata": {},
     "output_type": "execute_result"
    }
   ],
   "source": [
    "df = pd.read_csv('../data/immo_data_202208_v2.csv')\n",
    "df.head()"
   ]
  },
  {
   "cell_type": "code",
   "execution_count": 3,
   "metadata": {},
   "outputs": [
    {
     "data": {
      "text/html": [
       "<div>\n",
       "<style scoped>\n",
       "    .dataframe tbody tr th:only-of-type {\n",
       "        vertical-align: middle;\n",
       "    }\n",
       "\n",
       "    .dataframe tbody tr th {\n",
       "        vertical-align: top;\n",
       "    }\n",
       "\n",
       "    .dataframe thead th {\n",
       "        text-align: right;\n",
       "    }\n",
       "</style>\n",
       "<table border=\"1\" class=\"dataframe\">\n",
       "  <thead>\n",
       "    <tr style=\"text-align: right;\">\n",
       "      <th></th>\n",
       "      <th>Municipality</th>\n",
       "      <th>Living space</th>\n",
       "      <th>Plot area</th>\n",
       "      <th>Floor space</th>\n",
       "      <th>Availability</th>\n",
       "      <th>location</th>\n",
       "      <th>description</th>\n",
       "      <th>detailed_description</th>\n",
       "      <th>url</th>\n",
       "      <th>table</th>\n",
       "      <th>...</th>\n",
       "      <th>features</th>\n",
       "      <th>description_detailed</th>\n",
       "      <th>Floor space:</th>\n",
       "      <th>Number of floors:</th>\n",
       "      <th>Volume:</th>\n",
       "      <th>plz</th>\n",
       "      <th>Number of toilets:</th>\n",
       "      <th>Gross yield:</th>\n",
       "      <th>Minimum floor space:</th>\n",
       "      <th>space_cleaned</th>\n",
       "    </tr>\n",
       "  </thead>\n",
       "  <tbody>\n",
       "    <tr>\n",
       "      <th>0</th>\n",
       "      <td>Biberstein</td>\n",
       "      <td>100 m²</td>\n",
       "      <td>NaN</td>\n",
       "      <td>NaN</td>\n",
       "      <td>On request</td>\n",
       "      <td>5023 Biberstein, AG</td>\n",
       "      <td>3.5 rooms, 100 m²«Luxuriöse Attika-Wohnung mit...</td>\n",
       "      <td>DescriptionLuxuriöse Attika-Wohnung direkt an ...</td>\n",
       "      <td>https://www.immoscout24.ch//en/d/penthouse-buy...</td>\n",
       "      <td>b &lt;article class=####Box-cYFBPY hKrxoH####&gt;&lt;h2...</td>\n",
       "      <td>...</td>\n",
       "      <td>NaN</td>\n",
       "      <td>NaN</td>\n",
       "      <td>NaN</td>\n",
       "      <td>NaN</td>\n",
       "      <td>NaN</td>\n",
       "      <td>5023.0</td>\n",
       "      <td>NaN</td>\n",
       "      <td>NaN</td>\n",
       "      <td>NaN</td>\n",
       "      <td>NaN</td>\n",
       "    </tr>\n",
       "    <tr>\n",
       "      <th>1</th>\n",
       "      <td>Biberstein</td>\n",
       "      <td>156 m²</td>\n",
       "      <td>222 m²</td>\n",
       "      <td>242 m²</td>\n",
       "      <td>On request</td>\n",
       "      <td>Buhldenstrasse 8d5023 Biberstein, AG</td>\n",
       "      <td>4.5 rooms, 156 m²«Stilvolle Liegenschaft - ruh...</td>\n",
       "      <td>DescriptionStilvolle Liegenschaft an ruhiger L...</td>\n",
       "      <td>https://www.immoscout24.ch//en/d/terrace-house...</td>\n",
       "      <td>b &lt;article class=####Box-cYFBPY hKrxoH####&gt;&lt;h2...</td>\n",
       "      <td>...</td>\n",
       "      <td>NaN</td>\n",
       "      <td>NaN</td>\n",
       "      <td>NaN</td>\n",
       "      <td>NaN</td>\n",
       "      <td>NaN</td>\n",
       "      <td>5023.0</td>\n",
       "      <td>NaN</td>\n",
       "      <td>NaN</td>\n",
       "      <td>NaN</td>\n",
       "      <td>NaN</td>\n",
       "    </tr>\n",
       "    <tr>\n",
       "      <th>2</th>\n",
       "      <td>NaN</td>\n",
       "      <td>NaN</td>\n",
       "      <td>NaN</td>\n",
       "      <td>NaN</td>\n",
       "      <td>NaN</td>\n",
       "      <td>5022 Rombach, AG</td>\n",
       "      <td>2.5 rooms, 93 m²«Moderne, lichtdurchflutete At...</td>\n",
       "      <td>detail_responsive#description_title2,5 Zimmerw...</td>\n",
       "      <td>https://www.immoscout24.ch//en/d/penthouse-buy...</td>\n",
       "      <td>b &lt;article class=####Box-cYFBPY hKrxoH####&gt;&lt;h2...</td>\n",
       "      <td>...</td>\n",
       "      <td>NaN</td>\n",
       "      <td>NaN</td>\n",
       "      <td>NaN</td>\n",
       "      <td>NaN</td>\n",
       "      <td>NaN</td>\n",
       "      <td>5022.0</td>\n",
       "      <td>NaN</td>\n",
       "      <td>NaN</td>\n",
       "      <td>NaN</td>\n",
       "      <td>NaN</td>\n",
       "    </tr>\n",
       "    <tr>\n",
       "      <th>3</th>\n",
       "      <td>Biberstein</td>\n",
       "      <td>154 m²</td>\n",
       "      <td>370 m²</td>\n",
       "      <td>257 m²</td>\n",
       "      <td>On request</td>\n",
       "      <td>Buhaldenstrasse 8A5023 Biberstein, AG</td>\n",
       "      <td>4.5 rooms, 154 m²«AgentSelly - Luxuriöses Eckh...</td>\n",
       "      <td>DescriptionDieses äusserst grosszügige Minergi...</td>\n",
       "      <td>https://www.immoscout24.ch//en/d/detached-hous...</td>\n",
       "      <td>b &lt;article class=####Box-cYFBPY hKrxoH####&gt;&lt;h2...</td>\n",
       "      <td>...</td>\n",
       "      <td>NaN</td>\n",
       "      <td>NaN</td>\n",
       "      <td>NaN</td>\n",
       "      <td>NaN</td>\n",
       "      <td>NaN</td>\n",
       "      <td>5023.0</td>\n",
       "      <td>NaN</td>\n",
       "      <td>NaN</td>\n",
       "      <td>NaN</td>\n",
       "      <td>NaN</td>\n",
       "    </tr>\n",
       "    <tr>\n",
       "      <th>4</th>\n",
       "      <td>Küttigen</td>\n",
       "      <td>142 m²</td>\n",
       "      <td>NaN</td>\n",
       "      <td>NaN</td>\n",
       "      <td>On request</td>\n",
       "      <td>5022 Rombach, AG</td>\n",
       "      <td>4.5 rooms, 142 m²«MIT GARTENSITZPLATZ UND VIEL...</td>\n",
       "      <td>DescriptionAus ehemals zwei Wohnungen wurde ei...</td>\n",
       "      <td>https://www.immoscout24.ch//en/d/flat-buy-romb...</td>\n",
       "      <td>b &lt;article class=####Box-cYFBPY hKrxoH####&gt;&lt;h2...</td>\n",
       "      <td>...</td>\n",
       "      <td>NaN</td>\n",
       "      <td>NaN</td>\n",
       "      <td>NaN</td>\n",
       "      <td>NaN</td>\n",
       "      <td>NaN</td>\n",
       "      <td>5022.0</td>\n",
       "      <td>NaN</td>\n",
       "      <td>NaN</td>\n",
       "      <td>NaN</td>\n",
       "      <td>NaN</td>\n",
       "    </tr>\n",
       "  </tbody>\n",
       "</table>\n",
       "<p>5 rows × 132 columns</p>\n",
       "</div>"
      ],
      "text/plain": [
       "  Municipality Living space Plot area Floor space Availability  \\\n",
       "0   Biberstein       100 m²       NaN         NaN   On request   \n",
       "1   Biberstein       156 m²    222 m²      242 m²   On request   \n",
       "2          NaN          NaN       NaN         NaN          NaN   \n",
       "3   Biberstein       154 m²    370 m²      257 m²   On request   \n",
       "4     Küttigen       142 m²       NaN         NaN   On request   \n",
       "\n",
       "                                location  \\\n",
       "0                    5023 Biberstein, AG   \n",
       "1   Buhldenstrasse 8d5023 Biberstein, AG   \n",
       "2                       5022 Rombach, AG   \n",
       "3  Buhaldenstrasse 8A5023 Biberstein, AG   \n",
       "4                       5022 Rombach, AG   \n",
       "\n",
       "                                         description  \\\n",
       "0  3.5 rooms, 100 m²«Luxuriöse Attika-Wohnung mit...   \n",
       "1  4.5 rooms, 156 m²«Stilvolle Liegenschaft - ruh...   \n",
       "2  2.5 rooms, 93 m²«Moderne, lichtdurchflutete At...   \n",
       "3  4.5 rooms, 154 m²«AgentSelly - Luxuriöses Eckh...   \n",
       "4  4.5 rooms, 142 m²«MIT GARTENSITZPLATZ UND VIEL...   \n",
       "\n",
       "                                detailed_description  \\\n",
       "0  DescriptionLuxuriöse Attika-Wohnung direkt an ...   \n",
       "1  DescriptionStilvolle Liegenschaft an ruhiger L...   \n",
       "2  detail_responsive#description_title2,5 Zimmerw...   \n",
       "3  DescriptionDieses äusserst grosszügige Minergi...   \n",
       "4  DescriptionAus ehemals zwei Wohnungen wurde ei...   \n",
       "\n",
       "                                                 url  \\\n",
       "0  https://www.immoscout24.ch//en/d/penthouse-buy...   \n",
       "1  https://www.immoscout24.ch//en/d/terrace-house...   \n",
       "2  https://www.immoscout24.ch//en/d/penthouse-buy...   \n",
       "3  https://www.immoscout24.ch//en/d/detached-hous...   \n",
       "4  https://www.immoscout24.ch//en/d/flat-buy-romb...   \n",
       "\n",
       "                                               table  ... features  \\\n",
       "0  b <article class=####Box-cYFBPY hKrxoH####><h2...  ...      NaN   \n",
       "1  b <article class=####Box-cYFBPY hKrxoH####><h2...  ...      NaN   \n",
       "2  b <article class=####Box-cYFBPY hKrxoH####><h2...  ...      NaN   \n",
       "3  b <article class=####Box-cYFBPY hKrxoH####><h2...  ...      NaN   \n",
       "4  b <article class=####Box-cYFBPY hKrxoH####><h2...  ...      NaN   \n",
       "\n",
       "  description_detailed Floor space: Number of floors: Volume:     plz  \\\n",
       "0                  NaN          NaN               NaN     NaN  5023.0   \n",
       "1                  NaN          NaN               NaN     NaN  5023.0   \n",
       "2                  NaN          NaN               NaN     NaN  5022.0   \n",
       "3                  NaN          NaN               NaN     NaN  5023.0   \n",
       "4                  NaN          NaN               NaN     NaN  5022.0   \n",
       "\n",
       "  Number of toilets: Gross yield: Minimum floor space: space_cleaned  \n",
       "0                NaN          NaN                  NaN           NaN  \n",
       "1                NaN          NaN                  NaN           NaN  \n",
       "2                NaN          NaN                  NaN           NaN  \n",
       "3                NaN          NaN                  NaN           NaN  \n",
       "4                NaN          NaN                  NaN           NaN  \n",
       "\n",
       "[5 rows x 132 columns]"
      ]
     },
     "execution_count": 3,
     "metadata": {},
     "output_type": "execute_result"
    }
   ],
   "source": [
    "df = df.drop(df.columns[[0, 1]], axis=1)\n",
    "df.head()"
   ]
  },
  {
   "cell_type": "code",
   "execution_count": 4,
   "metadata": {},
   "outputs": [
    {
     "name": "stdout",
     "output_type": "stream",
     "text": [
      "Number of rows: 22481\n",
      "Number of columns:  132\n"
     ]
    }
   ],
   "source": [
    "# print the number of rows and columns\n",
    "print(\"Number of rows:\", df.shape[0]) \n",
    "print(\"Number of columns: \", df.shape[1])\n",
    " "
   ]
  },
  {
   "cell_type": "code",
   "execution_count": 5,
   "metadata": {},
   "outputs": [
    {
     "name": "stdout",
     "output_type": "stream",
     "text": [
      "5023 Biberstein, AG\n",
      "5023 Biberstein, AG\n"
     ]
    }
   ],
   "source": [
    "# print the column 'address' of the first row\n",
    "print(df.loc[0, 'address'])\n",
    "\n",
    "# print the column 'location' of the first row\n",
    "print(df.loc[0, 'location'])"
   ]
  },
  {
   "cell_type": "code",
   "execution_count": 6,
   "metadata": {},
   "outputs": [
    {
     "name": "stdout",
     "output_type": "stream",
     "text": [
      "address     9126\n",
      "location       0\n",
      "dtype: int64\n"
     ]
    }
   ],
   "source": [
    "# print count of NaN values for address and location\n",
    "print(df[['address', 'location']].isnull().sum())\n"
   ]
  },
  {
   "cell_type": "code",
   "execution_count": 7,
   "metadata": {},
   "outputs": [
    {
     "name": "stdout",
     "output_type": "stream",
     "text": [
      "15306\n"
     ]
    }
   ],
   "source": [
    "# count how many times address differs from location\n",
    "print((df['address'] != df['location']).sum())\n"
   ]
  },
  {
   "cell_type": "code",
   "execution_count": 8,
   "metadata": {},
   "outputs": [
    {
     "name": "stdout",
     "output_type": "stream",
     "text": [
      "6180\n"
     ]
    }
   ],
   "source": [
    "df['address'] = np.where(pd.isna(df['address']), df['location'], df['address'])\n",
    "\n",
    "# count how many times address differs from location\n",
    "print((df['address'] != df['location']).sum())"
   ]
  },
  {
   "cell_type": "code",
   "execution_count": 9,
   "metadata": {},
   "outputs": [
    {
     "name": "stdout",
     "output_type": "stream",
     "text": [
      "[['5023 Biberstein, AG'], ['Buhldenstrasse 8d5023 Biberstein, AG'], ['5022 Rombach, AG'], ['Buhaldenstrasse 8A5023 Biberstein, AG'], ['5022 Rombach, AG'], ['Buchhalde 365018 Erlinsbach, AG'], ['5023 Biberstein, AG'], ['5004 Aarau, AG'], ['Siebenmatten 495032 Aarau Rohr, AG'], ['5018 Erlinsbach, AG']]\n",
      "[['5023 Biberstein, AG'], ['Buhldenstrasse 8d, 5023 Biberstein, AG'], ['5022 Rombach, AG'], ['Buhaldenstrasse 8A, 5023 Biberstein, AG'], ['5022 Rombach, AG'], ['Buchhalde 36, 5018 Erlinsbach, AG'], ['5023 Biberstein, AG'], ['5004 Aarau, AG'], ['Siebenmatten 49, 5032 Aarau Rohr, AG'], ['5018 Erlinsbach, AG']]\n"
     ]
    }
   ],
   "source": [
    "# Extract the 'location' column and convert it into a list of lists\n",
    "location_list_of_lists = df['location'].apply(lambda x: [x] if pd.notna(x) else [None]).tolist()\n",
    "# Extract the 'address' column and convert it into a list of lists\n",
    "address_list_of_lists = df['address'].apply(lambda x: [x] if pd.notna(x) else [None]).tolist()\n",
    "\n",
    "\n",
    "# Print the result\n",
    "print(location_list_of_lists[:10])  # Print the first 10 items as a sample\n",
    "# Print the result\n",
    "print(address_list_of_lists[:10])  # Print the first 10 items as a sample"
   ]
  },
  {
   "cell_type": "code",
   "execution_count": 10,
   "metadata": {},
   "outputs": [
    {
     "name": "stdout",
     "output_type": "stream",
     "text": [
      "Index: 1, Location: ['Buhldenstrasse 8d5023 Biberstein, AG'], Address: ['Buhldenstrasse 8d, 5023 Biberstein, AG']\n",
      "Index: 3, Location: ['Buhaldenstrasse 8A5023 Biberstein, AG'], Address: ['Buhaldenstrasse 8A, 5023 Biberstein, AG']\n",
      "Index: 5, Location: ['Buchhalde 365018 Erlinsbach, AG'], Address: ['Buchhalde 36, 5018 Erlinsbach, AG']\n",
      "Index: 8, Location: ['Siebenmatten 495032 Aarau Rohr, AG'], Address: ['Siebenmatten 49, 5032 Aarau Rohr, AG']\n",
      "Index: 10, Location: ['Rütmattstrasse 175004 Aarau, AG'], Address: ['Rütmattstrasse 17, 5004 Aarau, AG']\n",
      "Index: 11, Location: ['Nordstrasse 105032 Aarau Rohr, AG'], Address: ['Nordstrasse 10, 5032 Aarau Rohr, AG']\n",
      "Index: 12, Location: ['Schönenwerderstrasse 545000 Aarau, AG'], Address: ['Schönenwerderstrasse 54, 5000 Aarau, AG']\n",
      "Index: 13, Location: ['Steinfeldstrasse 485033 Buchs AG, AG'], Address: ['Steinfeldstrasse 48, 5033 Buchs AG, AG']\n",
      "Index: 16, Location: ['Dammweg 965000 Aarau, AG'], Address: ['Dammweg 96, 5000 Aarau, AG']\n",
      "Index: 17, Location: ['Grenzweg 25033 Buchs AG, AG'], Address: ['Grenzweg 2, 5033 Buchs AG, AG']\n"
     ]
    }
   ],
   "source": [
    "# Iterate through both lists and compare each pair of elements\n",
    "differences = []\n",
    "for i, (location, address) in enumerate(zip(location_list_of_lists, address_list_of_lists)):\n",
    "    if location != address:\n",
    "        differences.append((i, location, address))\n",
    "\n",
    "# Print the differences\n",
    "for index, location, address in differences[:10]:  # Print the first 10 differences as a sample\n",
    "    print(f\"Index: {index}, Location: {location}, Address: {address}\")\n"
   ]
  },
  {
   "cell_type": "code",
   "execution_count": 11,
   "metadata": {},
   "outputs": [
    {
     "name": "stdout",
     "output_type": "stream",
     "text": [
      "Municipality              931\n",
      "Living space            10868\n",
      "Plot area               17797\n",
      "Floor space             19706\n",
      "Availability             9840\n",
      "                        ...  \n",
      "plz                        17\n",
      "Number of toilets:      22408\n",
      "Gross yield:            22467\n",
      "Minimum floor space:    22479\n",
      "space_cleaned           13355\n",
      "Length: 132, dtype: int64\n"
     ]
    }
   ],
   "source": [
    "# count nans of all values and print the result\n",
    "print(df.isnull().sum())"
   ]
  },
  {
   "cell_type": "code",
   "execution_count": 12,
   "metadata": {},
   "outputs": [
    {
     "name": "stdout",
     "output_type": "stream",
     "text": [
      "Index([], dtype='object')\n"
     ]
    }
   ],
   "source": [
    "# print the columns that have 22481 NaN values\n",
    "print(df.columns[df.isnull().sum() == 22481])\n",
    "\n"
   ]
  },
  {
   "cell_type": "markdown",
   "metadata": {},
   "source": [
    "# Handling price\n",
    " - price_cleaned\n",
    " - price_s\n",
    " - desription\n",
    " - details_structured"
   ]
  },
  {
   "cell_type": "code",
   "execution_count": 17,
   "metadata": {},
   "outputs": [],
   "source": [
    "import ast\n",
    "\n",
    "def convert_to_dict(val):\n",
    "    if isinstance(val, str):\n",
    "        try:\n",
    "            return ast.literal_eval(val)\n",
    "        except:\n",
    "            return {}\n",
    "    elif isinstance(val, dict):\n",
    "        return val\n",
    "    else:\n",
    "        return {}\n",
    "\n",
    "df['details_structured'] = df['details_structured'].apply(convert_to_dict)"
   ]
  },
  {
   "cell_type": "code",
   "execution_count": 18,
   "metadata": {},
   "outputs": [],
   "source": [
    "def update_row_values(row):\n",
    "    details = row['details_structured']\n",
    "    for key, value in details.items():\n",
    "        if key in df.columns and pd.isna(row[key]):\n",
    "            row[key] = value\n",
    "    return row\n",
    "\n",
    "df = df.apply(update_row_values, axis=1)\n"
   ]
  },
  {
   "cell_type": "code",
   "execution_count": 21,
   "metadata": {},
   "outputs": [
    {
     "name": "stdout",
     "output_type": "stream",
     "text": [
      "0    {'Municipality': 'Biberstein', 'Living space': '100 m²', 'Floor': '4. floor', 'Availability': 'On request', 'location': '5023 Biberstein, AG', 'description': '3.5 rooms, 100 m²«Luxuriöse Attika-Wohnung mit herrlicher Aussicht»CHF 1,150,000.—Favourite', 'detailed_description': 'DescriptionLuxuriöse Attika-Wohnung direkt an der Aare und angrenzend an die Landwirtschaftszone, mit unverbaubarer Weitsicht, grosszügiger Garage und Option auf ein zusätzliches Zimmer.Einzigartige Lage, top Aussicht und hochwertige Innenausstattung? Das alles bietet diese charmante Eigentumswohnung auf 100m2 im steuergünstigen Biberstein. Stadtnah gelegen und mit direktem Naturzugang sorgt sie für ein rundum angenehmes Wohngefühl.In der ganzen Wohnung sind hochwertige Materialien mit einem südländischen Touch verbaut. Der Boden ist mit einem Jurastein und die beiden Zimmer mit Holz versehen (mit Bodenheizung).In die Wohnung gelangt man über einen separaten Eingang, ein halbes Stockwerk vom gewachsenen Boden erhöht (kein gemeinsames Treppenhaus). Die grosse Terrasse (rund 70m2) öffnet nach Süden ein einzigartiges Panorama mit einem herrlichen Blick auf Natur, Aare und Alpen.Naturfreunde können von der Haustür direkt an die Aare oder in die Wälder gelangen. Zur Arbeit ist die Bushaltestelle nur 200m entfernt (Bahnhof Aarau ist innerhalb von wenigen Minuten erreichbar). Für die Fahrzeuge bestehen 3 Parkmöglichkeiten: Eine grosse Garage mit Fenster direkt unterhalb der Wohnung (Länge: 7m / Breite: 3m), ein Aussenparkplatz vor der Garage und daneben ein grosszügiger Carport.Die Wohnung zeichnet sich besonders durch ihren grosszügigen Wohn-/Essbereich mit einer bodentiefen Fensterfronst nach Süden aus. Vom Eingangsbereich mit Garderobe gelangt man auf beiden Seiten direkt in zwei separate Zimmer. Anschliessend findet sich links das ideal ausgestattete Badezimmer (Badewanne, Dusche, zwei Lavabos, elektrischer Handtuchwärmer, alles in hochwertiger Qualität - Villeroy&Boch/Granit/Jurastein/Murano-Glas). Die Küche ist grosszügig und halb offen zum Essbereich konzipiert. Zwischen dem Badezimmer und der Küche befindet sich ein grosser Abstellraum (fast 10m2) mit eigener Waschmaschine / Tumbler/Lavabo. Noch mehr Stauraum bietet ein grosszügiger Keller im Untergeschoss. Im Wohn-/Essbereich war ursprünglich ein weiteres Zimmer geplant, womit die Wohnung mit wenig Aufwand zu einer 4.5-Zimmer-Wohnung erweitert werden könnte.Neben der grossen Süd-Terrasse hat es einen weiteren Balkon Richtung Osten, wo sich das Frühstück wunderbar an der Morgensonne geniessen lässt. Die eingebaute Klimaanlage bietet zudem auch an heissen Sommertagen eine angenehme Raumtemperatur.Das Haus ist mit einer modernen, effizienten Ölheizung ausgestattet. Sie überzeugt mit einem sehr tiefen Verbrauch und wird jährlich per Serviceabonnement gewartet. Der wohnungseigene Warmwasser-Boiler fasst 300 Liter und ist ab Service.Es würde uns freuen, Ihnen diese einzigartige Wohnung an einem individuellen Besichtigungstermin vorzustellen.', 'url': 'https://www.immoscout24.ch//en/d/penthouse-buy-biberstein/7255200', 'table': 'b'<article class=\"Box-cYFBPY hKrxoH\"><h2 class=\"Box-cYFBPY gZLPvm\">Main information</h2><table class=\"DataTable__StyledTable-sc-1o2xig5-1 jbXaEC\"><tbody><tr><td class=\"DataTable__SimpleCell-sc-1o2xig5-2 DataTable__Cell-sc-1o2xig5-4 edrNfG dGBatU\">Municipality</td><td class=\"DataTable__SimpleCell-sc-1o2xig5-2 DataTable__CellValue-sc-1o2xig5-3 edrNfG rJZBK\">Biberstein</td></tr><tr><td class=\"DataTable__SimpleCell-sc-1o2xig5-2 DataTable__Cell-sc-1o2xig5-4 edrNfG dGBatU\">Living space</td><td class=\"DataTable__SimpleCell-sc-1o2xig5-2 DataTable__CellValue-sc-1o2xig5-3 edrNfG rJZBK\">100 m&#178;</td></tr><tr><td class=\"DataTable__SimpleCell-sc-1o2xig5-2 DataTable__Cell-sc-1o2xig5-4 edrNfG dGBatU\">Floor</td><td class=\"DataTable__SimpleCell-sc-1o2xig5-2 DataTable__CellValue-sc-1o2xig5-3 edrNfG rJZBK\">4. floor</td></tr><tr><td class=\"DataTable__SimpleCell-sc-1o2xig5-2 DataTable__Cell-sc-1o2xig5-4 edrNfG dGBatU\">Availability</td><td class=\"DataTable__SimpleCell-sc-1o2xig5-2 DataTable__CellValue-sc-1o2xig5-3 edrNfG rJZBK\">On request</td></tr><tr class=\"Box-cYFBPY fgkiRl\"><td colspan=\"2\" class=\"DataTable__SimpleCell-sc-1o2xig5-2 DataTable__Cell-sc-1o2xig5-4 edrNfG fFglmV\"><a href=\"https://cis01.immoscout24.ch/is24media/13/d5/2bb0f98746-220805.pdf\" target=\"_blank\" rel=\"noopener\" class=\"Box-cYFBPY Link__Shell-kMBQAv ljXWtL hMCCae\"><svg width=\"24\" height=\"24\" viewbox=\"0 0 24 24\" fill=\"none\" class=\"Pdf__SvgPdf-fVqkQz jPOpoj\"><path d=\"M18 18v2H6v-2H4v4h16v-5l-2 1zM4 10V8l6-6h10v8h-2V4h-6v6H4zm6-5L7 8h3V5zm-2.042 7.386a2.131 2.131 0 00-1.405-1.228A6.203 6.203 0 005 11H4v6h1v-1.995a6.2 6.2 0 001.552-.159 2.131 2.131 0 001.406-1.227 2.756 2.756 0 000-1.233zM5.995 14L5 14.002V12h1s1.073 0 1.036 1a1.026 1.026 0 01-1.041 1zM19 12v-1h-4v6h1v-2h2v-1h-2v-2h3zm-5.033 1.886C13.927 11.931 12.79 11 10.913 11H9v6h1.913c1.877 0 3.014-.931 3.054-2.886v-.228zM11 16h-1v-4h1a1.789 1.789 0 012.003 2A1.788 1.788 0 0111 16z\" fill=\"#333\"/></svg>A_Grundriss.pdf</a></td></tr></tbody></table><hr class=\"Divider-iprSaI bBhTLQ\"/></article>''}\n",
      "1                                                                                                                                                                                                                                                                                                                                                                                                                                                                                                                                                           {'Municipality': 'Biberstein', 'Living space': '156 m²', 'Plot area': '222 m²', 'Floor space': '242 m²', 'Availability': 'On request', 'location': 'Buhldenstrasse 8d5023 Biberstein, AG', 'description': '4.5 rooms, 156 m²«Stilvolle Liegenschaft - ruhige Lage, unverbaubare Aussicht»CHF 1,420,000.—Favourite', 'detailed_description': 'DescriptionStilvolle Liegenschaft an ruhiger Lage mit unverbaubarer Aussicht in den JuraDiese hochwertige Liegenschaft mit Baujahr 2013 liegt an ruhiger Aussichtslage im steuergünstigen Biberstein. Die Liegenschaft präsentiert sich in neuwertigem Zustand. Die Materialisierung ist sehr stilvoll und der Ausbaustandard sehr hoch. Das ganze Haus verfügt über einen hochwertigen Eichenparkett (Echtholz) sowie Wände mit Gipsglattstrich und Küchengeräte der Marke V-Zug. Die Liegenschaft ist im Minergie Standard erstellt und zertifiziert.Das Haus eignet sich bestens für eine Familie oder ein Paar in Kombination mit Homeoffice. Es verfügt über eine Nettogeschossfläche (beheizte Wohnfläche) von 156.50m2 und eine Nutzfläche (inkl. Garage, Hobbyraum und Waschen/Trocknen/Technik) von 242.00m2.Erdgeschoss  Sie betreten das Haus über einen grosszügigen Eingangsbereich. Der grosse Garderobenschrank bietet Platz für die ganze Familie, Sporttaschen und vieles mehr.Vom Eingangsbereich gelangen Sie direkt in die übergrosse Garage (ca. 47.50m2). Zwei Autos finden mühelos darin Platz und im hinteren Teil der Garage verfügen Sie über zusätzlichen Raum um eine Werkstatt einzurichten oder Velos und Kinderwagen zu parkieren.Obergeschoss  Über die Sichtbetontreppe erreichen Sie das Obergeschoss. Die ganze Treppe gleicht einer Skulptur und der grosszügige Vorbereich führt zu den beiden Kinderzimmer. gegenüber befindet sich WC/Dusche und der Eingangsbereich in den Masterbedroom (Elternzimmer mit separater Ankleide und Bad).Fernen befindet sich auf diesem Geschoss der Hobbyraum (ca. 22.00m2) und dahinter liegend der Technikraum mit Waschmaschine und Tumbler (ca. 16.00m2).Das Haus wird mit einer eigenen Wärmepumpe (Luft-Wasser) beheizt und die Wärmeverteilung erfolgt über eine Fussbodenheizung. Zudem verfügt das Haus über eine eigene, kontrollierte Wohnungslüftung. Anschlüsse für eine Wasserentkalkung sind vorhanden.Attikageschoss  Im Attikageschoss befindet sich der offen Wohn-, Ess, und Kochbereich. Die Küche mit viel Stauraum verfügt über eine Chromstahlabdeckung, Topgeräte der Firma V-Zug (Induktionsherd, Backofen, Steamer, Geschirrwaschmaschine), einen grosse Kühlschrank sowie einen Dampfabzug. Der Küche direkt angegliedert ist ein Reduit. Der perfekte Raum für Vorräte und alles was nicht täglich in der Küche gebraucht wird.Dem Essbereich zugeordnet befindet sich die Ostterrasse (Morgensonne, ca. 25.00m2). Ein schön bepflanzter Gartenteil bildet den Abschluss.Die grosse Westterrasse (Mittag- und Abendsonne, ca. 52.50m2) erreichen Sie über den Wohnbereich. Die Aussicht in den nahen Jura ist phänomenal.Das ganze Haus verfügt über einen hochwertigen Eichenparkett (Echtholz) sowie Wände mit Gipsglattstrich.Haben wir Ihr Interesse geweckt?Gerne zeigen wir Ihnen diese stilvolle Liegenschaft unverbindlich vor Ort.', 'url': 'https://www.immoscout24.ch//en/d/terrace-house-buy-biberstein/7266694', 'table': 'b'<article class=\"Box-cYFBPY hKrxoH\"><h2 class=\"Box-cYFBPY gZLPvm\">Main information</h2><table class=\"DataTable__StyledTable-sc-1o2xig5-1 jbXaEC\"><tbody><tr><td class=\"DataTable__SimpleCell-sc-1o2xig5-2 DataTable__Cell-sc-1o2xig5-4 edrNfG dGBatU\">Municipality</td><td class=\"DataTable__SimpleCell-sc-1o2xig5-2 DataTable__CellValue-sc-1o2xig5-3 edrNfG rJZBK\">Biberstein</td></tr><tr><td class=\"DataTable__SimpleCell-sc-1o2xig5-2 DataTable__Cell-sc-1o2xig5-4 edrNfG dGBatU\">Living space</td><td class=\"DataTable__SimpleCell-sc-1o2xig5-2 DataTable__CellValue-sc-1o2xig5-3 edrNfG rJZBK\">156 m&#178;</td></tr><tr><td class=\"DataTable__SimpleCell-sc-1o2xig5-2 DataTable__Cell-sc-1o2xig5-4 edrNfG dGBatU\">Plot area</td><td class=\"DataTable__SimpleCell-sc-1o2xig5-2 DataTable__CellValue-sc-1o2xig5-3 edrNfG rJZBK\">222 m&#178;</td></tr><tr><td class=\"DataTable__SimpleCell-sc-1o2xig5-2 DataTable__Cell-sc-1o2xig5-4 edrNfG dGBatU\">Floor space</td><td class=\"DataTable__SimpleCell-sc-1o2xig5-2 DataTable__CellValue-sc-1o2xig5-3 edrNfG rJZBK\">242 m&#178;</td></tr><tr><td class=\"DataTable__SimpleCell-sc-1o2xig5-2 DataTable__Cell-sc-1o2xig5-4 edrNfG dGBatU\">Availability</td><td class=\"DataTable__SimpleCell-sc-1o2xig5-2 DataTable__CellValue-sc-1o2xig5-3 edrNfG rJZBK\">On request</td></tr></tbody></table><hr class=\"Divider-iprSaI bBhTLQ\"/></article>''}\n",
      "2                                                                                                                                                                                                                                                                                                                                                                                                                                                                                                                                                                                                                                                                                                                                                                                                                                                                                                                                                                                                                                                                                                                                              {'detail_responsive#municipality': 'Küttigen', 'detail_responsive#surface_living': '93 m²', 'detail_responsive#floor': '2. floor', 'detail_responsive#available_from': 'Immediately', 'location': '5022 Rombach, AG', 'description': '2.5 rooms, 93 m²«Moderne, lichtdurchflutete Attikawohnung mit Erdwärmeheizung»CHF 720,000.—detail_responsive#bookmark', 'detailed_description': 'detail_responsive#description_title2,5 Zimmerwohnung mit 93 m2 Wohnfläche und 28 m2 Südbalkon über die gesamte Länge der Wohnung, teilweise überdacht, mit hübsch gestaltetem Balkongarten (u.a. Säulenobst, Kräuter, Blumenstauden) und herrlichem Blick über das Aaretal bis hin zu Alpengipfeln bei klarer Sicht.Grosszügiger Wohn-Essbereich, Einbauküche mit Kücheninsel, moderne Elektrogeräte (z.B. Backofen mit Steamerfunktion, Induktionsherd)2 Duschbäder, mit begehbarer Dusche im 1. Bad und Wasch-/Trockenturm im 2. Bad.Raumhohe Fenster im gesamten Wohnbereich; Spotlights und Galerieleisten in allen Räumen; Schränke in Eingangsbereich, Schlafzimmer und Bädern6-Parteien Haus, Baujahr 2010, hoher Standard auf nachhaltiger Grundlage, Holzparkett und Fliesenboden, Fußbodenheizung mit Erdwärme und Solarthermie (unabhängig von Gas und Öl).Barrierefreier Zugang mit Lift bis in die Tiefgarage; Kellerabteil mit grosszügigem Stauraum in Regalen. Tiefgaragenstellplatz 25000 SFr. Ein zusätzlicher Kellerraum ist für 10000 SFr verfügbar (nicht obligatorisch).Zentrumsnah gelegen zwischen der Aare und dem Küttiger Wald. Einkaufsmöglichkeiten, Gastronomie, Sportstätten, Schulen und KiTas in der Nähe.15 Gehminuten bis ins Stadtzentrum Aarau mit seiner schönen Altstadt und den vielfältigen Kulturstätten und Einkaufsmöglichkeiten, 20 min. bis zum Bahnhof, komfortabler Zugang zum Aare Rad- und Wanderweg, Bushaltestelle liegt 3 Gehminuten entfernt.', 'url': 'https://www.immoscout24.ch//en/d/penthouse-buy-rombach/7261389', 'table': 'b'<article class=\"Box-cYFBPY hKrxoH\"><h2 class=\"Box-cYFBPY gZLPvm\">detail_responsive#base_info_title</h2><table class=\"DataTable__StyledTable-sc-1o2xig5-1 jbXaEC\"><tbody><tr><td class=\"DataTable__SimpleCell-sc-1o2xig5-2 DataTable__Cell-sc-1o2xig5-4 edrNfG dGBatU\">detail_responsive#municipality</td><td class=\"DataTable__SimpleCell-sc-1o2xig5-2 DataTable__CellValue-sc-1o2xig5-3 edrNfG rJZBK\">K&#252;ttigen</td></tr><tr><td class=\"DataTable__SimpleCell-sc-1o2xig5-2 DataTable__Cell-sc-1o2xig5-4 edrNfG dGBatU\">detail_responsive#surface_living</td><td class=\"DataTable__SimpleCell-sc-1o2xig5-2 DataTable__CellValue-sc-1o2xig5-3 edrNfG rJZBK\">93 m&#178;</td></tr><tr><td class=\"DataTable__SimpleCell-sc-1o2xig5-2 DataTable__Cell-sc-1o2xig5-4 edrNfG dGBatU\">detail_responsive#floor</td><td class=\"DataTable__SimpleCell-sc-1o2xig5-2 DataTable__CellValue-sc-1o2xig5-3 edrNfG rJZBK\">2. floor</td></tr><tr><td class=\"DataTable__SimpleCell-sc-1o2xig5-2 DataTable__Cell-sc-1o2xig5-4 edrNfG dGBatU\">detail_responsive#available_from</td><td class=\"DataTable__SimpleCell-sc-1o2xig5-2 DataTable__CellValue-sc-1o2xig5-3 edrNfG rJZBK\">Immediately</td></tr><tr class=\"Box-cYFBPY fgkiRl\"><td colspan=\"2\" class=\"DataTable__SimpleCell-sc-1o2xig5-2 DataTable__Cell-sc-1o2xig5-4 edrNfG fFglmV\"><a href=\"https://cis01.immoscout24.ch/is24media/13/b8/3d4c14ac47-220810.pdf\" target=\"_blank\" rel=\"noopener\" class=\"Box-cYFBPY Link__Shell-kMBQAv ljXWtL hMCCae\"><svg width=\"24\" height=\"24\" viewbox=\"0 0 24 24\" fill=\"none\" class=\"Pdf__SvgPdf-fVqkQz jPOpoj\"><path d=\"M18 18v2H6v-2H4v4h16v-5l-2 1zM4 10V8l6-6h10v8h-2V4h-6v6H4zm6-5L7 8h3V5zm-2.042 7.386a2.131 2.131 0 00-1.405-1.228A6.203 6.203 0 005 11H4v6h1v-1.995a6.2 6.2 0 001.552-.159 2.131 2.131 0 001.406-1.227 2.756 2.756 0 000-1.233zM5.995 14L5 14.002V12h1s1.073 0 1.036 1a1.026 1.026 0 01-1.041 1zM19 12v-1h-4v6h1v-2h2v-1h-2v-2h3zm-5.033 1.886C13.927 11.931 12.79 11 10.913 11H9v6h1.913c1.877 0 3.014-.931 3.054-2.886v-.228zM11 16h-1v-4h1a1.789 1.789 0 012.003 2A1.788 1.788 0 0111 16z\" fill=\"#333\"/></svg>Grundriss Layout.pdf</a></td></tr></tbody></table><hr class=\"Divider-iprSaI bBhTLQ\"/></article>''}\n",
      "3                                                                                                                                                                                                                                                                                                                                                                                                                                                                                                                                                                                                                                                                                                                                                                                                                                                                                                                                                                                                                                                                                                                                                                                                                                                                                                                                                                                                                                                                                                                                                                                                                                                                                                                                                                                                                                                                                                                                                                                                                                                                                                                                                                                                                                                                                                                                                                                                                                                                                                                                                                                                                                                                                                                                                                                                                                                                                        {'Municipality': 'Biberstein', 'Living space': '154 m²', 'Plot area': '370 m²', 'Floor space': '257 m²', 'Availability': 'On request', 'location': 'Buhaldenstrasse 8A5023 Biberstein, AG', 'description': '4.5 rooms, 154 m²«AgentSelly - Luxuriöses Eckhaus an toller Süd-West Lage»CHF 1,430,000.—Favourite', 'detailed_description': 'DescriptionDieses äusserst grosszügige Minergie-Eckhaus mit Süd-West Ausrichtung wird Sie mit einer luxuriösen Ausstattung, einer tollen Grundrissgestaltung und schönen Aussenräumen begeistern. Auf drei mit einem Lift verbundenen Etagen erwarten Sie ein grosszügiger Wohn- und Essbereich mit moderner Küche und Zugang zu Terrasse und Sitzplatz, zwei Schlafzimmer, ein Masterbedroom mit Ankleide und Bad en-Suite sowie viel Stauraum dank dem Keller und einer grossen Garage.Für weitere Informationen besuchen Sie uns auf:https://www.agentselly.ch/kaufen/objekt/XieWpo7jvqQj2n25jFurther information', 'url': 'https://www.immoscout24.ch//en/d/detached-house-buy-biberstein/7047212', 'table': 'b'<article class=\"Box-cYFBPY hKrxoH\"><h2 class=\"Box-cYFBPY gZLPvm\">Main information</h2><table class=\"DataTable__StyledTable-sc-1o2xig5-1 jbXaEC\"><tbody><tr><td class=\"DataTable__SimpleCell-sc-1o2xig5-2 DataTable__Cell-sc-1o2xig5-4 edrNfG dGBatU\">Municipality</td><td class=\"DataTable__SimpleCell-sc-1o2xig5-2 DataTable__CellValue-sc-1o2xig5-3 edrNfG rJZBK\">Biberstein</td></tr><tr><td class=\"DataTable__SimpleCell-sc-1o2xig5-2 DataTable__Cell-sc-1o2xig5-4 edrNfG dGBatU\">Living space</td><td class=\"DataTable__SimpleCell-sc-1o2xig5-2 DataTable__CellValue-sc-1o2xig5-3 edrNfG rJZBK\">154 m&#178;</td></tr><tr><td class=\"DataTable__SimpleCell-sc-1o2xig5-2 DataTable__Cell-sc-1o2xig5-4 edrNfG dGBatU\">Plot area</td><td class=\"DataTable__SimpleCell-sc-1o2xig5-2 DataTable__CellValue-sc-1o2xig5-3 edrNfG rJZBK\">370 m&#178;</td></tr><tr><td class=\"DataTable__SimpleCell-sc-1o2xig5-2 DataTable__Cell-sc-1o2xig5-4 edrNfG dGBatU\">Floor space</td><td class=\"DataTable__SimpleCell-sc-1o2xig5-2 DataTable__CellValue-sc-1o2xig5-3 edrNfG rJZBK\">257 m&#178;</td></tr><tr><td class=\"DataTable__SimpleCell-sc-1o2xig5-2 DataTable__Cell-sc-1o2xig5-4 edrNfG dGBatU\">Availability</td><td class=\"DataTable__SimpleCell-sc-1o2xig5-2 DataTable__CellValue-sc-1o2xig5-3 edrNfG rJZBK\">On request</td></tr></tbody></table><hr class=\"Divider-iprSaI bBhTLQ\"/></article>''}\n",
      "4                                                                                                                                                                                                                                                                                                                                                                                                                                                                                                                                                                                                                                                                                                                                                                                                                                                                                                                                                                                                                                                                                                                                                                                                                                                                                                                                                                                                                                                                                                                                                                                                                                                                                                                                                                                                                                                                                                                                                                                                                                                                                                {'Municipality': 'Küttigen', 'Living space': '142 m²', 'Floor': 'Ground floor', 'Availability': 'On request', 'location': '5022 Rombach, AG', 'description': '4.5 rooms, 142 m²«MIT GARTENSITZPLATZ UND VIELEN EXTRAS»CHF 995,000.—Favourite', 'detailed_description': 'DescriptionAus ehemals zwei Wohnungen wurde eine wunderschöne, grosszügige und helle Wohnung kreiert. Die Wohnung hat nebst ihren grossen und lichtdurchfluteten Räumlichkeiten einiges zu bieten; wie eine offene und moderne Küche mit grossem Wohn- und Essbereich, Terrasse mit eigenem Sitzplatz und pflegeleichtem Garten sowie einen grossen, beheizten Hobbyraum.Dieses BETTERHOMES-Angebot zeichnet sich durch folgende Vorteile aus:grosser, beheizter Hobbyraum (32 qm2)offene Küche mit grossem Wohn- und Essbereichhelle und grosszügige Zimmerzwei Nasszelleninsgesamt 3 Balkone und eine Terrasse mit Gartendreifach-verglaste Fensterweiterer Tiefgaragenplatz zur Miete optional96m2 Grundstückfläche zur Eigennutzungzzgl. CHF 40'000.- für 1 x Tiefgaragenplatz und 1 x Aussenparkplatzund, und, und...Interessiert? Kontaktieren Sie uns für eine unverbindliche Besichtigung auch Online-Besichtigung möglich!Nichts Passendes gefunden? Über 2'300 weitere Angebote unter: www.betterhomes.ch - der Immobilienfairmittler®Selber eine Immobilie zu vermarkten?Profitieren Sie von unserem Know-how: https://www.betterhomes.ch/de/profitierenSie möchten eine Immobilie schätzen lassen?Erfahren Sie jetzt ihren Wert über unsere Gratis-Schätzung, sofort und unverbindlich!https://www.betterhomes.ch/de/knowledge/estimationMehr DetailsLage: sonnige Lage, gute ÖV-AnbindungZustand: moderner Ausbau, sehr guter ZustandBäder / Nasszellen: 2 (1x Dusche / Lavabo / Toilette, 1x Badewanne / Lavabo / Toilette)Öffentliche Verkehrsmittel: Buslinie 1 und 135 \"Rombacherhof\", 20mSchulen: Kindergarten, 400 m / Primarschule, 350mGeschäfte: Apotheke, Post und Dorfladen, 150mFurther information', 'url': 'https://www.immoscout24.ch//en/d/flat-buy-rombach/7293107', 'table': 'b'<article class=\"Box-cYFBPY hKrxoH\"><h2 class=\"Box-cYFBPY gZLPvm\">Main information</h2><table class=\"DataTable__StyledTable-sc-1o2xig5-1 jbXaEC\"><tbody><tr><td class=\"DataTable__SimpleCell-sc-1o2xig5-2 DataTable__Cell-sc-1o2xig5-4 edrNfG dGBatU\">Municipality</td><td class=\"DataTable__SimpleCell-sc-1o2xig5-2 DataTable__CellValue-sc-1o2xig5-3 edrNfG rJZBK\">K&#252;ttigen</td></tr><tr><td class=\"DataTable__SimpleCell-sc-1o2xig5-2 DataTable__Cell-sc-1o2xig5-4 edrNfG dGBatU\">Living space</td><td class=\"DataTable__SimpleCell-sc-1o2xig5-2 DataTable__CellValue-sc-1o2xig5-3 edrNfG rJZBK\">142 m&#178;</td></tr><tr><td class=\"DataTable__SimpleCell-sc-1o2xig5-2 DataTable__Cell-sc-1o2xig5-4 edrNfG dGBatU\">Floor</td><td class=\"DataTable__SimpleCell-sc-1o2xig5-2 DataTable__CellValue-sc-1o2xig5-3 edrNfG rJZBK\">Ground floor</td></tr><tr><td class=\"DataTable__SimpleCell-sc-1o2xig5-2 DataTable__Cell-sc-1o2xig5-4 edrNfG dGBatU\">Availability</td><td class=\"DataTable__SimpleCell-sc-1o2xig5-2 DataTable__CellValue-sc-1o2xig5-3 edrNfG rJZBK\">On request</td></tr></tbody></table><hr class=\"Divider-iprSaI bBhTLQ\"/></article>''}\n",
      "Name: details_structured, dtype: object\n"
     ]
    }
   ],
   "source": [
    "# print all columns, so we can see all columns\n",
    "pd.set_option('display.max_columns', None)\n",
    "pd.set_option('display.max_colwidth', None)\n",
    "\n",
    "\n",
    "# print 'details_structured' column of the first row"
   ]
  }
 ],
 "metadata": {
  "kernelspec": {
   "display_name": "Python 3",
   "language": "python",
   "name": "python3"
  },
  "language_info": {
   "codemirror_mode": {
    "name": "ipython",
    "version": 3
   },
   "file_extension": ".py",
   "mimetype": "text/x-python",
   "name": "python",
   "nbconvert_exporter": "python",
   "pygments_lexer": "ipython3",
   "version": "3.10.7"
  },
  "orig_nbformat": 4
 },
 "nbformat": 4,
 "nbformat_minor": 2
}
