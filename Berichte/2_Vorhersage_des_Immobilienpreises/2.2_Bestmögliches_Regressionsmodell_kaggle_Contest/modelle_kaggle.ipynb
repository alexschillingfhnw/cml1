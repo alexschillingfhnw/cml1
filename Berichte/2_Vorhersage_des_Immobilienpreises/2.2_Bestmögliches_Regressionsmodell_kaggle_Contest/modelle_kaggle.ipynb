{
 "cells": [
  {
   "attachments": {},
   "cell_type": "markdown",
   "metadata": {},
   "source": [
    "**cml1 - Immobilienrechner**\n",
    "\n",
    "# 2.2 Bestmögliches Regressionsmodell - kaggle-Contest\n",
    "\n",
    "Eingabe der Vorhersage des Preises für den Testdatensatz mit deinem bestmöglichen Modell auf kaggle."
   ]
  },
  {
   "attachments": {},
   "cell_type": "markdown",
   "metadata": {},
   "source": [
    "## Module importieren"
   ]
  },
  {
   "cell_type": "code",
   "execution_count": 642,
   "metadata": {},
   "outputs": [],
   "source": [
    "import pandas as pd\n",
    "import numpy as np\n",
    "import matplotlib.pyplot as plt\n",
    "import seaborn as sns\n",
    "from scipy import stats\n",
    "\n",
    "# linear models\n",
    "from sklearn.linear_model import LinearRegression, Ridge, Lasso\n",
    "\n",
    "# ensemble models\n",
    "from sklearn.ensemble import RandomForestRegressor, GradientBoostingRegressor, HistGradientBoostingRegressor\n",
    "\n",
    "# xgb model\n",
    "import xgboost as xgb\n",
    "from xgboost import XGBRegressor\n",
    "\n",
    "# imputing\n",
    "from sklearn.impute import KNNImputer\n",
    "\n",
    "# preprocessing\n",
    "from sklearn.preprocessing import StandardScaler, LabelEncoder, OneHotEncoder\n",
    "\n",
    "# pipeline\n",
    "from sklearn.pipeline import Pipeline\n",
    "\n",
    "# model selection\n",
    "from sklearn.model_selection import train_test_split, GridSearchCV\n",
    "\n",
    "# metrics\n",
    "from sklearn.metrics import mean_absolute_percentage_error, r2_score\n",
    "\n",
    "# save model\n",
    "import pickle"
   ]
  },
  {
   "attachments": {},
   "cell_type": "markdown",
   "metadata": {},
   "source": [
    "## Daten laden"
   ]
  },
  {
   "attachments": {},
   "cell_type": "markdown",
   "metadata": {},
   "source": [
    "Damit die Predictions die korrekten IDs haben, müssen die rohe Kaggle-Daten geladen werden und die IDs extrahiert werden. Diese werden wir später wieder benötigen."
   ]
  },
  {
   "cell_type": "code",
   "execution_count": 643,
   "metadata": {},
   "outputs": [],
   "source": [
    "df_raw_kaggle = pd.read_csv('../../../data/test_data-Kaggle-v0.11.csv', low_memory=False)\n",
    "\n",
    "# get indexes for predictions\n",
    "indexes = df_raw_kaggle[\"Unnamed: 0\"]"
   ]
  },
  {
   "cell_type": "code",
   "execution_count": 644,
   "metadata": {},
   "outputs": [],
   "source": [
    "df = pd.read_csv('../../../data/immo_data_clean.csv', low_memory=False)\n",
    "df_kaggle = pd.read_csv('../../../data/test_data_kaggle_clean.csv', low_memory=False)"
   ]
  },
  {
   "attachments": {},
   "cell_type": "markdown",
   "metadata": {},
   "source": [
    "Hinweis: `Floor_space_merged` wurde bereits automatisch im datawrangling_kaggle Notebook gelöscht. Darum müssen wir diese Variable hier nicht eingeben."
   ]
  },
  {
   "cell_type": "code",
   "execution_count": 645,
   "metadata": {},
   "outputs": [],
   "source": [
    "df = df.drop(columns=[\n",
    "\t\"Zip\",\n",
    "\t\"Availability_Categorized\",\n",
    "    \"type_unified\",\n",
    "    \"Floor_space_merged\",\n",
    "\n",
    "    \"gde_politics_bdp\",\n",
    "    \"gde_politics_cvp\",\n",
    "    \"gde_politics_evp\",\n",
    "    \"gde_politics_fdp\",\n",
    "    \"gde_politics_glp\",\n",
    "    \"gde_politics_gps\",\n",
    "    \"gde_politics_pda\",\n",
    "    \"gde_politics_rights\",\n",
    "    \"gde_politics_sp\",\n",
    "    \"gde_politics_svp\",\n",
    "\n",
    "    \"gde_workers_sector1\",\n",
    "    \"gde_workers_sector2\",\n",
    "    \"gde_workers_sector3\",\n",
    "\n",
    "    \"distanceToTrainStation\",\n",
    "\n",
    "    \"NoisePollutionRailwayL\", \"NoisePollutionRailwayM\", \"NoisePollutionRailwayS\", \n",
    "    \"NoisePollutionRoadL\", \"NoisePollutionRoadM\", \"NoisePollutionRoadS\", \n",
    "    \"PopulationDensityL\", \"PopulationDensityM\", \"PopulationDensityS\", \n",
    "    \"RiversAndLakesL\", \"RiversAndLakesM\", \"RiversAndLakesS\", \n",
    "    \"WorkplaceDensityL\", \"WorkplaceDensityM\", \"WorkplaceDensityS\", \n",
    "    \"ForestDensityL\", \"ForestDensityM\", \"ForestDensityS\"\n",
    "])\n",
    "\n",
    "df_kaggle = df_kaggle.drop(columns=[\n",
    "\t\"Zip\",\n",
    "\t\"Availability_Categorized\",\n",
    "    \"type_unified\",\n",
    "\n",
    "    \"gde_politics_bdp\",\n",
    "    \"gde_politics_cvp\",\n",
    "    \"gde_politics_evp\",\n",
    "    \"gde_politics_fdp\",\n",
    "    \"gde_politics_glp\",\n",
    "    \"gde_politics_gps\",\n",
    "    \"gde_politics_pda\",\n",
    "    \"gde_politics_rights\",\n",
    "    \"gde_politics_sp\",\n",
    "    \"gde_politics_svp\",\n",
    "\n",
    "    \"gde_workers_sector1\",\n",
    "    \"gde_workers_sector2\",\n",
    "    \"gde_workers_sector3\",\n",
    "\n",
    "    \"distanceToTrainStation\",\n",
    "\n",
    "    \"NoisePollutionRailwayL\", \"NoisePollutionRailwayM\", \"NoisePollutionRailwayS\", \n",
    "    \"NoisePollutionRoadL\", \"NoisePollutionRoadM\", \"NoisePollutionRoadS\", \n",
    "    \"PopulationDensityL\", \"PopulationDensityM\", \"PopulationDensityS\", \n",
    "    \"RiversAndLakesL\", \"RiversAndLakesM\", \"RiversAndLakesS\", \n",
    "    \"WorkplaceDensityL\", \"WorkplaceDensityM\", \"WorkplaceDensityS\", \n",
    "    \"ForestDensityL\", \"ForestDensityM\", \"ForestDensityS\",\n",
    "])"
   ]
  },
  {
   "attachments": {},
   "cell_type": "markdown",
   "metadata": {},
   "source": [
    "## Daten vorbereiten"
   ]
  },
  {
   "cell_type": "code",
   "execution_count": 646,
   "metadata": {},
   "outputs": [
    {
     "name": "stdout",
     "output_type": "stream",
     "text": [
      "Dataset after removing rows with missing target values:\n",
      "(21444, 45)\n",
      "Kaggle Test Dataset\n",
      "(24556, 44)\n"
     ]
    }
   ],
   "source": [
    "def preprocess_dataframe(df):\n",
    "    categorical_columns = df.select_dtypes(include=['object']).columns.tolist()\n",
    "    numerical_columns = df.select_dtypes(include=['int64', 'float64']).columns.tolist()\n",
    "    df_processed = pd.get_dummies(df, columns=categorical_columns, drop_first=True, dtype=int)\n",
    "\n",
    "    return df_processed, numerical_columns\n",
    "\n",
    "df, num_cols_df = preprocess_dataframe(df)\n",
    "df_kaggle, num_cols_df_kaggle = preprocess_dataframe(df_kaggle)\n",
    "\n",
    "df = df[df['price_cleaned'] > 10000]\n",
    "\n",
    "df = df.dropna(subset=['price_cleaned'], axis=0)\n",
    "\n",
    "print(\"Dataset after removing rows with missing target values:\")\n",
    "print(df.shape)\n",
    "\n",
    "print(\"Kaggle Test Dataset\")\n",
    "print(df_kaggle.shape)"
   ]
  },
  {
   "cell_type": "code",
   "execution_count": 647,
   "metadata": {},
   "outputs": [
    {
     "name": "stdout",
     "output_type": "stream",
     "text": [
      "The dataframes do not have the same column names.\n",
      "Columns in df1 not in df2: {'price_cleaned'}\n"
     ]
    }
   ],
   "source": [
    "columns_df1 = set(df.columns)\n",
    "columns_df2 = set(df_kaggle.columns)\n",
    "\n",
    "# Compare the sets of columns\n",
    "if columns_df1 == columns_df2:\n",
    "    print(\"The dataframes have the same column names.\")\n",
    "else:\n",
    "    print(\"The dataframes do not have the same column names.\")\n",
    "\n",
    "    # Find out which columns are different\n",
    "    diff_df1 = columns_df1 - columns_df2\n",
    "    diff_df2 = columns_df2 - columns_df1\n",
    "\n",
    "    if diff_df1:\n",
    "        print(\"Columns in df1 not in df2:\", diff_df1)\n",
    "    if diff_df2:\n",
    "        print(\"Columns in df2 not in df1 (dropped):\", diff_df2)\n",
    "        df_kaggle.drop(diff_df2, axis=1, inplace=True)"
   ]
  },
  {
   "attachments": {},
   "cell_type": "markdown",
   "metadata": {},
   "source": [
    "## Train Test Split"
   ]
  },
  {
   "attachments": {},
   "cell_type": "markdown",
   "metadata": {},
   "source": [
    "Da wir für hier für den Kaggle-Contest einen Testdatensatz bekommen haben, werden wir die Daten wie folgt aufteilen:\n",
    "\n",
    "1. Trainingsdaten (80%): Diese Daten werden verwendet, um das Modell zu trainieren.\n",
    "\n",
    "2. Validierungsdaten (20%): Diese Daten werden verwendet, um die Leistung des Modells während des Trainings zu bewerten und Hyperparameter zu optimieren.\n",
    "\n",
    "3. Testdaten (Kaggle Testdatensatz): Diese Daten werden separat gehalten und werden erst verwendet, nachdem das Modell trainiert und validiert wurde, um die Endleistung des Modells zu bewerten. Diese Testdaten sind repräsentativ für echte, unabhängige Daten und dienen dazu, die Generalisierungsfähigkeit des Modells zu überprüfen."
   ]
  },
  {
   "cell_type": "code",
   "execution_count": 648,
   "metadata": {},
   "outputs": [
    {
     "name": "stdout",
     "output_type": "stream",
     "text": [
      "X_train shape:  (17155, 44)\n",
      "y_train shape:  (17155,)\n",
      "X_val shape:  (4289, 44)\n",
      "y_val shape:  (4289,)\n",
      "X_test_kaggle shape:  (24556, 44)\n"
     ]
    }
   ],
   "source": [
    "train, val = train_test_split(df, test_size=0.2, random_state=42)\n",
    "\n",
    "X_train = train.drop(\"price_cleaned\", axis=1)\n",
    "y_train = train[\"price_cleaned\"]\n",
    "\n",
    "X_val= val.drop(\"price_cleaned\", axis=1)\n",
    "y_val = val[\"price_cleaned\"]\n",
    "\n",
    "X_test_kaggle = df_kaggle\n",
    "\n",
    "print(\"X_train shape: \", X_train.shape)\n",
    "print(\"y_train shape: \", y_train.shape)\n",
    "print(\"X_val shape: \", X_val.shape)\n",
    "print(\"y_val shape: \", y_val.shape)\n",
    "print(\"X_test_kaggle shape: \", X_test_kaggle.shape)"
   ]
  },
  {
   "cell_type": "code",
   "execution_count": 649,
   "metadata": {},
   "outputs": [],
   "source": [
    "# make sure that the columns are in the same order\n",
    "X_train = X_train.reindex(sorted(X_train.columns), axis=1)\n",
    "X_val = X_val.reindex(sorted(X_val.columns), axis=1)\n",
    "X_test_kaggle = X_test_kaggle.reindex(sorted(X_test_kaggle.columns), axis=1)"
   ]
  },
  {
   "attachments": {},
   "cell_type": "markdown",
   "metadata": {},
   "source": [
    "## Imputation"
   ]
  },
  {
   "cell_type": "code",
   "execution_count": 650,
   "metadata": {},
   "outputs": [],
   "source": [
    "cols = X_train.columns\n",
    "\n",
    "imputer = KNNImputer(n_neighbors=5)\n",
    "\n",
    "X_train_imputed = pd.DataFrame(imputer.fit_transform(X_train), columns=cols)\n",
    "X_val_imputed = pd.DataFrame(imputer.transform(X_val), columns=cols)\n",
    "X_test_kaggle_imputed = pd.DataFrame(imputer.fit_transform(df_kaggle), columns=cols)"
   ]
  },
  {
   "attachments": {},
   "cell_type": "markdown",
   "metadata": {},
   "source": [
    "## Standardisierung"
   ]
  },
  {
   "attachments": {},
   "cell_type": "markdown",
   "metadata": {},
   "source": [
    "Wir haben bemerkt, dass die Datensätze mit fehlenden Werten keine gute Vorhersagen auf dem Kaggle-Testdatensatz liefern. Deshalb haben wir uns entschieden, die Datensätze mit fehlenden Werten hier nicht mehr zu berücksichtigen."
   ]
  },
  {
   "cell_type": "code",
   "execution_count": 654,
   "metadata": {},
   "outputs": [],
   "source": [
    "scaler = StandardScaler()\n",
    "\n",
    "scaler = scaler.fit(X_train)\n",
    "\n",
    "X_train = pd.DataFrame(scaler.transform(X_train), columns=cols)\n",
    "X_val = pd.DataFrame(scaler.transform(X_val), columns=cols)\n",
    "X_test_kaggle = pd.DataFrame(scaler.transform(X_test_kaggle), columns=cols)"
   ]
  },
  {
   "attachments": {},
   "cell_type": "markdown",
   "metadata": {},
   "source": [
    "## Modelle"
   ]
  },
  {
   "attachments": {},
   "cell_type": "markdown",
   "metadata": {},
   "source": [
    "### Modell 5: XGBoost (Log-Transformiert)"
   ]
  },
  {
   "cell_type": "code",
   "execution_count": 655,
   "metadata": {},
   "outputs": [
    {
     "name": "stdout",
     "output_type": "stream",
     "text": [
      "Fitting 5 folds for each of 1 candidates, totalling 5 fits\n",
      "Best parameters: {'booster': 'gbtree', 'learning_rate': 0.1, 'max_depth': 6, 'min_split_loss': 0.05, 'random_state': 42, 'reg_lambda': 4}\n",
      "MAPE test: 0.2699\n",
      "MAPE train: 0.2147\n",
      "R2: 0.6972\n"
     ]
    }
   ],
   "source": [
    "def xgb_model(\n",
    "        X_train,\n",
    "        y_train,\n",
    "        X_test,\n",
    "        y_test,\n",
    "        cv,\n",
    "        max_depth,\n",
    "        learning_rate,\n",
    "        min_split_loss,\n",
    "        reg_lambda,\n",
    "        booster\n",
    "    ):\n",
    "\n",
    "    xgb = XGBRegressor()\n",
    "\n",
    "    param_grid = {\n",
    "        'max_depth': max_depth,\n",
    "        'learning_rate': learning_rate,\n",
    "        'min_split_loss': min_split_loss,\n",
    "        'reg_lambda': reg_lambda,\n",
    "        'booster': booster,\n",
    "        'random_state': [42]\n",
    "    }\n",
    "\n",
    "    grid_xgb = GridSearchCV(xgb, param_grid, cv=cv, n_jobs=-1, scoring='neg_mean_absolute_percentage_error', verbose=1)\n",
    "\n",
    "    grid_xgb.fit(X_train, np.log(y_train))\n",
    "\n",
    "    best_params = grid_xgb.best_params_\n",
    "    print('Best parameters: {}'.format(best_params))\n",
    "\n",
    "    y_pred_xgb = grid_xgb.predict(X_test)\n",
    "    y_pred_xgb = np.exp(y_pred_xgb)\n",
    "\n",
    "    y_pred_xgb2 = grid_xgb.predict(X_train)\n",
    "    y_pred_xgb2 = np.exp(y_pred_xgb2)\n",
    "\n",
    "    mape_xgb = round(mean_absolute_percentage_error(y_test, y_pred_xgb), 4)\n",
    "    print('MAPE test: {}'.format(mape_xgb))\n",
    "\n",
    "    mape_xgb2 = round(mean_absolute_percentage_error(y_train, y_pred_xgb2), 4)\n",
    "    print('MAPE train: {}'.format(mape_xgb2))\n",
    "\n",
    "    r2_xgb = round(r2_score(y_test, y_pred_xgb), 4)\n",
    "    print('R2: {}'.format(r2_xgb))\n",
    "\n",
    "    return grid_xgb, mape_xgb\n",
    "\n",
    "xgb_regression_log, mape_xgb_log = xgb_model(\n",
    "    X_train,\n",
    "    y_train,\n",
    "    X_val,\n",
    "    y_val,\n",
    "    cv=5,\n",
    "    max_depth = [6],\n",
    "    learning_rate = [0.1],\n",
    "    min_split_loss = [0.05],\n",
    "    reg_lambda = [4],\n",
    "    booster = ['gbtree']\n",
    ")"
   ]
  },
  {
   "cell_type": "code",
   "execution_count": 656,
   "metadata": {},
   "outputs": [],
   "source": [
    "xgb_best = xgb_regression_log.best_estimator_"
   ]
  },
  {
   "attachments": {},
   "cell_type": "markdown",
   "metadata": {},
   "source": [
    "#### Extreme Gradient Boosting Regression Predictions"
   ]
  },
  {
   "cell_type": "code",
   "execution_count": 279,
   "metadata": {},
   "outputs": [],
   "source": [
    "# Making predictions on the test set\n",
    "y_pred_xgb_best = xgb_best.predict(X_test_kaggle)\n",
    "y_pred_xgb_best = np.exp(y_pred_xgb_best)\n",
    "\n",
    "predictions = pd.DataFrame({\"ID\": indexes, \"Expected\": y_pred_xgb_best})\n",
    "predictions.to_csv('../../99_gespeicherte_modelle/predictions_xgb_log_best_mape_train_test_difference.csv', index=False)"
   ]
  },
  {
   "attachments": {},
   "cell_type": "markdown",
   "metadata": {},
   "source": [
    "### Modell 9: Hist Gradient Boosting Regression (Log-Transformiert)"
   ]
  },
  {
   "cell_type": "code",
   "execution_count": 390,
   "metadata": {},
   "outputs": [
    {
     "name": "stdout",
     "output_type": "stream",
     "text": [
      "Fitting 5 folds for each of 384 candidates, totalling 1920 fits\n"
     ]
    },
    {
     "name": "stderr",
     "output_type": "stream",
     "text": [
      "/Users/alexanderschilling/anaconda3/lib/python3.11/site-packages/joblib/externals/loky/process_executor.py:702: UserWarning: A worker stopped while some jobs were given to the executor. This can be caused by a too short worker timeout or by a memory leak.\n",
      "  warnings.warn(\n"
     ]
    },
    {
     "name": "stdout",
     "output_type": "stream",
     "text": [
      "Best parameters: {'l2_regularization': 0.1, 'learning_rate': 0.1, 'loss': 'gamma', 'max_depth': None, 'max_iter': 500, 'max_leaf_nodes': 100, 'random_state': 42}\n",
      "MAPE test: 0.2484\n",
      "MAPE train: 0.1388\n",
      "R2: 0.7\n"
     ]
    }
   ],
   "source": [
    "def hgb_model(\n",
    "        X_train, \n",
    "        y_train, \n",
    "        X_test, \n",
    "        y_test, \n",
    "        cv, \n",
    "        loss,\n",
    "        learning_rate, \n",
    "        max_iter,\n",
    "        max_leaf_nodes,\n",
    "        max_depth, \n",
    "        l2_regularization, \n",
    "        random_state,\n",
    "    ):\n",
    "    \n",
    "    hgb = HistGradientBoostingRegressor()\n",
    "\n",
    "    param_grid = {\n",
    "        'loss': loss,\n",
    "        'learning_rate': learning_rate,\n",
    "        'max_iter': max_iter,\n",
    "        'max_leaf_nodes': max_leaf_nodes,\n",
    "        'max_depth': max_depth,\n",
    "        'l2_regularization': l2_regularization,\n",
    "        'random_state': random_state\n",
    "    }\n",
    "\n",
    "    grid_hgb = GridSearchCV(hgb, param_grid, cv=cv, n_jobs=-1, scoring='neg_mean_absolute_percentage_error', verbose=1)\n",
    "\n",
    "    grid_hgb.fit(X_train, np.log(y_train))\n",
    "\n",
    "    best_params = grid_hgb.best_params_\n",
    "    print('Best parameters: {}'.format(best_params))\n",
    "\n",
    "    y_pred_hgb = grid_hgb.predict(X_test)\n",
    "    y_pred_hgb = np.exp(y_pred_hgb)\n",
    "    y_pred_hgb2 = grid_hgb.predict(X_train)\n",
    "    y_pred_hgb2 = np.exp(y_pred_hgb2)\n",
    "\n",
    "    mape_hgb = round(mean_absolute_percentage_error(y_test, y_pred_hgb), 4)\n",
    "    print('MAPE test: {}'.format(mape_hgb))\n",
    "    mape_hgb2 = round(mean_absolute_percentage_error(y_train, y_pred_hgb2), 4)\n",
    "    print('MAPE train: {}'.format(mape_hgb2))\n",
    "\n",
    "    r2_hgb = round(r2_score(y_test, y_pred_hgb), 4)\n",
    "    print('R2: {}'.format(r2_hgb))\n",
    "\n",
    "    return grid_hgb, mape_hgb\n",
    "\n",
    "hgb_regression_log, mape_hgb_log = hgb_model(\n",
    "    X_train,\n",
    "    y_train,\n",
    "    X_val,\n",
    "    y_val,\n",
    "    cv=5,\n",
    "    loss = ['gamma'],\n",
    "    learning_rate = [0.01, 0.1, 0.2, 0.3],\n",
    "    max_iter = [500, 1000, 2000, 3000],\n",
    "    max_leaf_nodes = [12, 23, 31, 50, 70, 100],\n",
    "    max_depth = [None],\n",
    "    l2_regularization = [0.1, 0.2, 0.01, 0.1],\n",
    "    random_state = [42]\n",
    ")"
   ]
  },
  {
   "cell_type": "code",
   "execution_count": 657,
   "metadata": {},
   "outputs": [
    {
     "name": "stdout",
     "output_type": "stream",
     "text": [
      "Fitting 5 folds for each of 1 candidates, totalling 5 fits\n",
      "Best parameters: {'l2_regularization': 0.2, 'learning_rate': 0.1, 'loss': 'gamma', 'max_depth': 6, 'max_iter': 500, 'max_leaf_nodes': 21, 'random_state': 42}\n",
      "MAPE test: 0.2558\n",
      "MAPE train: 0.1857\n",
      "R2: 0.7023\n"
     ]
    }
   ],
   "source": [
    "hgb_regression_log_simple, mape_hgb_log = hgb_model(\n",
    "    X_train,\n",
    "    y_train,\n",
    "    X_val,\n",
    "    y_val,\n",
    "    cv=5,\n",
    "    loss = ['gamma'],\n",
    "    learning_rate = [0.1],\n",
    "    max_iter = [500],\n",
    "    max_leaf_nodes = [21],\n",
    "    max_depth = [6],\n",
    "    l2_regularization = [0.2],\n",
    "    random_state = [42]\n",
    ")"
   ]
  },
  {
   "cell_type": "code",
   "execution_count": 658,
   "metadata": {},
   "outputs": [],
   "source": [
    "hgb_best = hgb_regression_log_simple.best_estimator_"
   ]
  },
  {
   "attachments": {},
   "cell_type": "markdown",
   "metadata": {},
   "source": [
    "#### Hist Gradient Boosting Regression Predictions"
   ]
  },
  {
   "cell_type": "code",
   "execution_count": 641,
   "metadata": {},
   "outputs": [],
   "source": [
    "# Making predictions on the test set\n",
    "y_pred_hgb_best = hgb_best.predict(X_test_kaggle)\n",
    "y_pred_hgb_best = np.exp(y_pred_hgb_best)\n",
    "\n",
    "predictions = pd.DataFrame({\"ID\": indexes, \"Expected\": y_pred_hgb_best})\n",
    "predictions.to_csv('../../99_gespeicherte_modelle/predictions_hgb_log.csv', index=False)"
   ]
  },
  {
   "attachments": {},
   "cell_type": "markdown",
   "metadata": {},
   "source": [
    "## Kombinieren der Modelle"
   ]
  },
  {
   "cell_type": "code",
   "execution_count": 510,
   "metadata": {},
   "outputs": [],
   "source": [
    "# Predict on both models\n",
    "y_pred_val_hgb = np.exp(hgb_best.predict(X_val))\n",
    "y_pred_val_xgb = np.exp(xgb_best.predict(X_val))\n",
    "\n",
    "# Calculate errors for the validation set\n",
    "errors_hgb = np.abs(y_val - y_pred_val_hgb)\n",
    "errors_xgb = np.abs(y_val - y_pred_val_xgb)\n",
    "\n",
    "# Create a new feature \n",
    "X_val_with_errors = np.column_stack((X_val, errors_hgb, errors_xgb))"
   ]
  },
  {
   "attachments": {},
   "cell_type": "markdown",
   "metadata": {},
   "source": [
    "Der angereicherte Feature `X_val_with_errors` kombiniert die ursprünglichen Daten mit Metamerkmalen (Errors unserer Modelle), die zusätzliche Informationen für die nächste Stufe der Modellierung liefern."
   ]
  },
  {
   "attachments": {},
   "cell_type": "markdown",
   "metadata": {},
   "source": [
    "Ein neuer HistGradientBoostingRegressor (Metamodell) wird nun auf dieser erweiterten Validierungsmenge (X_val_with_errors) unter Verwendung der ursprünglichen Zielwerte (y_val) trainiert. Das Metamodell lernt also, die Zielvariable nicht nur auf der Grundlage der ursprünglichen Merkmale vorherzusagen, sondern berücksichtigt auch, wie jedes der vorherigen Modelle (HGB und XGB) in Bezug auf Fehler abgeschnitten hat."
   ]
  },
  {
   "cell_type": "code",
   "execution_count": 511,
   "metadata": {},
   "outputs": [],
   "source": [
    "params = {\n",
    "    'loss': 'gamma',\n",
    "    'learning_rate': 0.1,\n",
    "    'max_iter': 300,\n",
    "    'max_leaf_nodes': 31,\n",
    "    'max_depth': 6,\n",
    "    'random_state': 42\n",
    "}\n",
    "\n",
    "# Train a Meta-Model\n",
    "meta_model = HistGradientBoostingRegressor(**params)\n",
    "meta_model.fit(X_val_with_errors, y_val)\n",
    "\n",
    "# Apply to Kaggle Test Set and Predict\n",
    "# Predict on the Kaggle Test Set using both models\n",
    "y_pred_test_hgb = np.exp(hgb_best.predict(X_test_kaggle))\n",
    "y_pred_test_xgb = np.exp(xgb_best.predict(X_test_kaggle))\n",
    "\n",
    "# Calculate errors for the Kaggle Test Set\n",
    "errors_hgb_kaggle = np.abs(y_pred_test_hgb - y_pred_test_xgb)\n",
    "\n",
    "# Create a new feature set for the Kaggle Test Set\n",
    "X_test_kaggle_with_errors = np.column_stack((X_test_kaggle, errors_hgb_kaggle, errors_hgb_kaggle))\n",
    "\n",
    "# Predict using the Meta-Model\n",
    "final_predictions = meta_model.predict(X_test_kaggle_with_errors)"
   ]
  },
  {
   "cell_type": "code",
   "execution_count": 512,
   "metadata": {},
   "outputs": [],
   "source": [
    "predictions = pd.DataFrame({\"ID\": indexes, \"Expected\": final_predictions})\n",
    "predictions.to_csv('../../99_gespeicherte_modelle/predictions_combined_v4.csv', index=False)"
   ]
  },
  {
   "attachments": {},
   "cell_type": "markdown",
   "metadata": {},
   "source": [
    "## Vorhersagen von den besten Modellen"
   ]
  },
  {
   "cell_type": "code",
   "execution_count": 509,
   "metadata": {},
   "outputs": [
    {
     "data": {
      "image/png": "[encoded data removed]",
      "text/plain": [
       "<Figure size 640x480 with 1 Axes>"
      ]
     },
     "metadata": {},
     "output_type": "display_data"
    },
    {
     "name": "stdout",
     "output_type": "stream",
     "text": [
      "82717.71656606915\n",
      "23696750.155614503\n"
     ]
    }
   ],
   "source": [
    "pred_combined = pd.read_csv('../../99_gespeicherte_modelle/predictions_combined_v4.csv')\n",
    "pred_combined = pred_combined[\"Expected\"]\n",
    "\n",
    "sns.histplot(pred_combined)\n",
    "plt.title(\"Predictions combined\")\n",
    "plt.show()\n",
    "\n",
    "print(pred_combined.min())\n",
    "print(pred_combined.max())"
   ]
  },
  {
   "cell_type": "code",
   "execution_count": 514,
   "metadata": {},
   "outputs": [
    {
     "data": {
      "image/png": "[encoded data removed]",
      "text/plain": [
       "<Figure size 640x480 with 1 Axes>"
      ]
     },
     "metadata": {},
     "output_type": "display_data"
    },
    {
     "name": "stdout",
     "output_type": "stream",
     "text": [
      "50447.75252810349\n",
      "21255748.09038129\n",
      "count       24556.00\n",
      "mean      1104788.84\n",
      "std       1033509.04\n",
      "min         50447.75\n",
      "25%        596887.93\n",
      "50%        869606.43\n",
      "75%       1263731.31\n",
      "max      21255748.09\n",
      "Name: Expected, dtype: float64\n"
     ]
    }
   ],
   "source": [
    "pred_best_hgb = pd.read_csv('../../99_gespeicherte_modelle/predictions_hgb_log_best.csv')\n",
    "pred_best_hgb = pred_best_hgb[\"Expected\"]\n",
    "\n",
    "sns.histplot(pred_best_hgb)\n",
    "plt.title(\"Predictions hgb\")\n",
    "plt.show()\n",
    "\n",
    "print(pred_best_hgb.min())\n",
    "print(pred_best_hgb.max())\n",
    "print(round(pred_best_hgb.describe(),2))"
   ]
  },
  {
   "cell_type": "code",
   "execution_count": 515,
   "metadata": {},
   "outputs": [
    {
     "data": {
      "image/png": "[encoded data removed]",
      "text/plain": [
       "<Figure size 640x480 with 1 Axes>"
      ]
     },
     "metadata": {},
     "output_type": "display_data"
    },
    {
     "name": "stdout",
     "output_type": "stream",
     "text": [
      "87153.67\n",
      "19839594.0\n",
      "count       24556.00\n",
      "mean      1096318.55\n",
      "std       1008094.30\n",
      "min         87153.67\n",
      "25%        605613.50\n",
      "50%        868949.05\n",
      "75%       1255838.10\n",
      "max      19839594.00\n",
      "Name: Expected, dtype: float64\n"
     ]
    }
   ],
   "source": [
    "pred_best_xgb = pd.read_csv('../../99_gespeicherte_modelle/predictions_xgb_log_best_mape_train_test_difference.csv')\n",
    "pred_best_xgb = pred_best_xgb[\"Expected\"]\n",
    "\n",
    "sns.histplot(pred_best_xgb)\n",
    "plt.title(\"Predictions xgb\")\n",
    "plt.show()\n",
    "\n",
    "print(pred_best_xgb.min())\n",
    "print(pred_best_xgb.max())\n",
    "print(round(pred_best_xgb.describe(),2))"
   ]
  },
  {
   "cell_type": "code",
   "execution_count": 523,
   "metadata": {},
   "outputs": [
    {
     "data": {
      "image/png": "[encoded data removed]",
      "text/plain": [
       "<Figure size 640x480 with 1 Axes>"
      ]
     },
     "metadata": {},
     "output_type": "display_data"
    },
    {
     "name": "stdout",
     "output_type": "stream",
     "text": [
      "Combined_Predictions    50447.752528\n",
      "dtype: float64\n",
      "Combined_Predictions    2.125575e+07\n",
      "dtype: float64\n"
     ]
    }
   ],
   "source": [
    "combined_predictions = []\n",
    "\n",
    "# Iterate through the predictions and apply your conditions\n",
    "for hgb_pred, xgb_pred in zip(pred_best_hgb, pred_best_xgb):\n",
    "    if hgb_pred < 200000 or hgb_pred > 1800000:\n",
    "        combined_predictions.append(hgb_pred)\n",
    "    else:\n",
    "        # mean of both predictions\n",
    "        combined_predictions.append((hgb_pred + xgb_pred) / 2)\n",
    "\n",
    "# Convert the combined predictions list to a DataFrame if needed\n",
    "combined_predictions_df = pd.DataFrame(combined_predictions, columns=['Combined_Predictions'])\n",
    "\n",
    "# plot the predictions\n",
    "sns.histplot(combined_predictions_df)\n",
    "plt.title(\"Predictions combined\")\n",
    "plt.show()\n",
    "\n",
    "print(combined_predictions_df.min())\n",
    "print(combined_predictions_df.max())\n",
    "\n",
    "# save\n",
    "predictions = pd.DataFrame({\"ID\": indexes, \"Expected\": combined_predictions_df[\"Combined_Predictions\"]})\n",
    "predictions.to_csv('../../99_gespeicherte_modelle/predictions_combined_v5.csv', index=False)"
   ]
  }
 ],
 "metadata": {
  "kernelspec": {
   "display_name": "base",
   "language": "python",
   "name": "python3"
  },
  "language_info": {
   "codemirror_mode": {
    "name": "ipython",
    "version": 3
   },
   "file_extension": ".py",
   "mimetype": "text/x-python",
   "name": "python",
   "nbconvert_exporter": "python",
   "pygments_lexer": "ipython3",
   "version": "3.11.5"
  },
  "orig_nbformat": 4,
  "vscode": {
   "interpreter": {
    "hash": "cd9c78cbb62892232a2e8cf9a4bd699d988202e949c50bb9be5232199c394801"
   }
  }
 },
 "nbformat": 4,
 "nbformat_minor": 2
}
