{
 "cells": [
  {
   "attachments": {},
   "cell_type": "markdown",
   "metadata": {},
   "source": [
    "# cml1 - Immobilienrechner\n",
    "# 2.2 Bestmögliches Regressionsmodell - kaggle-Contest\n",
    "\n",
    "Entwickle mit beliebigen Algorithmen das bestmögliche Modell im Sinne des Mean absolute percentage error (MAPE). Vergleiche dabei mindestens drei algorithmische Ansätze, wobei ein multiples lineares Modell Teil davon sein soll als Benchmark. Untersuche die ‘Variable Importance’ für dein bestes Modell.\n",
    "\n",
    "Abgabe\n",
    "\n",
    "Notebook und daraus erstellter Bericht (ohne Code) als pdf, welche die Entwicklung deines besten Modells, sowie der zwei weiteren Modelle dokumentiert, inklusive verwendeter Features, Preprocessing, Model Selection Prozess und Untersuchung der ‘Variable Importance’.\n",
    "\n",
    "Eingabe der Vorhersage des Preises für den Testdatensatz mit deinem bestmöglichen Modell auf kaggle."
   ]
  },
  {
   "attachments": {},
   "cell_type": "markdown",
   "metadata": {},
   "source": [
    "## Module importieren"
   ]
  },
  {
   "cell_type": "code",
   "execution_count": 11,
   "metadata": {},
   "outputs": [],
   "source": [
    "import pandas as pd\n",
    "import numpy as np\n",
    "import matplotlib.pyplot as plt\n",
    "import seaborn as sns\n",
    "from scipy import stats\n",
    "\n",
    "# linear models\n",
    "from sklearn.linear_model import LinearRegression, Ridge, Lasso, ElasticNet\n",
    "\n",
    "# tree models\n",
    "from sklearn.tree import DecisionTreeRegressor\n",
    "\n",
    "# ensemble models\n",
    "from sklearn.ensemble import RandomForestRegressor, GradientBoostingRegressor, HistGradientBoostingRegressor\n",
    "\n",
    "# xgb model\n",
    "import xgboost as xgb\n",
    "from xgboost import XGBRegressor\n",
    "\n",
    "# imputing\n",
    "from sklearn.impute import SimpleImputer, KNNImputer\n",
    "\n",
    "# preprocessing\n",
    "from sklearn.preprocessing import StandardScaler, MinMaxScaler, RobustScaler, LabelEncoder, OneHotEncoder\n",
    "\n",
    "# pipeline\n",
    "from sklearn.pipeline import Pipeline\n",
    "\n",
    "# model selection\n",
    "from sklearn.model_selection import train_test_split, GridSearchCV, cross_val_score, KFold, RandomizedSearchCV\n",
    "\n",
    "# metrics\n",
    "from sklearn.metrics import mean_absolute_percentage_error, r2_score\n",
    "\n",
    "# save model\n",
    "import pickle"
   ]
  },
  {
   "attachments": {},
   "cell_type": "markdown",
   "metadata": {},
   "source": [
    "## Daten laden"
   ]
  },
  {
   "attachments": {},
   "cell_type": "markdown",
   "metadata": {},
   "source": [
    "Damit die Predictions die korrekten IDs haben, müssen die rohe Kaggle-Daten geladen werden und die IDs extrahiert werden. Diese werden wir später wieder benötigen."
   ]
  },
  {
   "cell_type": "code",
   "execution_count": 12,
   "metadata": {},
   "outputs": [],
   "source": [
    "df_raw_kaggle = pd.read_csv('../../../data/test_data-Kaggle-v0.11.csv', low_memory=False)\n",
    "\n",
    "# get indexes for predictions\n",
    "indexes = df_raw_kaggle[\"Unnamed: 0\"]"
   ]
  },
  {
   "cell_type": "code",
   "execution_count": 13,
   "metadata": {},
   "outputs": [],
   "source": [
    "df = pd.read_csv('../../../data/immo_data_clean_v2.csv', low_memory=False)\n",
    "df_kaggle = pd.read_csv('../../../data/test_data_kaggle_clean.csv', low_memory=False)"
   ]
  },
  {
   "attachments": {},
   "cell_type": "markdown",
   "metadata": {},
   "source": [
    "## Daten vorbereiten"
   ]
  },
  {
   "cell_type": "code",
   "execution_count": 14,
   "metadata": {},
   "outputs": [
    {
     "name": "stdout",
     "output_type": "stream",
     "text": [
      "Dataset after removing rows with missing target values:\n",
      "(21444, 99)\n",
      "Kaggle Test Dataset\n",
      "(24556, 99)\n"
     ]
    }
   ],
   "source": [
    "def preprocess_dataframe(df):\n",
    "    categorical_columns = df.select_dtypes(include=['object']).columns.tolist()\n",
    "    numerical_columns = df.select_dtypes(include=['int64', 'float64']).columns.tolist()\n",
    "    df_processed = pd.get_dummies(df, columns=categorical_columns, drop_first=True, dtype=int)\n",
    "\n",
    "    return df_processed, numerical_columns\n",
    "\n",
    "\n",
    "def remove_outliers(df, numerical_columns):\n",
    "    df_processed = df.copy()\n",
    "\n",
    "    quantiles_1 = df_processed[numerical_columns].quantile(0)\n",
    "    quantiles_99 = df_processed[numerical_columns].quantile(0.99)\n",
    "\n",
    "    for column in numerical_columns:\n",
    "        condition = (df_processed[column] < quantiles_1[column]) | (df_processed[column] > quantiles_99[column])\n",
    "        df_processed.loc[condition, column] = None\n",
    "\n",
    "    return df_processed\n",
    "\n",
    "df, num_cols_df = preprocess_dataframe(df)\n",
    "df_kaggle, num_cols_df_kaggle = preprocess_dataframe(df_kaggle)\n",
    "\n",
    "#df = remove_outliers(df, num_cols_df)\n",
    "\n",
    "df = df[df['price_cleaned'] > 10000]\n",
    "\n",
    "df = df.dropna(subset=['price_cleaned'], axis=0)\n",
    "\n",
    "print(\"Dataset after removing rows with missing target values:\")\n",
    "print(df.shape)\n",
    "\n",
    "print(\"Kaggle Test Dataset\")\n",
    "print(df_kaggle.shape)"
   ]
  },
  {
   "cell_type": "code",
   "execution_count": 15,
   "metadata": {},
   "outputs": [
    {
     "name": "stdout",
     "output_type": "stream",
     "text": [
      "The dataframes do not have the same column names.\n",
      "Columns in df1 not in df2: {'price_cleaned'}\n",
      "Columns in df2 not in df1 (dropped): {'type_unified_furnished-residential-property'}\n"
     ]
    }
   ],
   "source": [
    "columns_df1 = set(df.columns)\n",
    "columns_df2 = set(df_kaggle.columns)\n",
    "\n",
    "# Compare the sets of columns\n",
    "if columns_df1 == columns_df2:\n",
    "    print(\"The dataframes have the same column names.\")\n",
    "else:\n",
    "    print(\"The dataframes do not have the same column names.\")\n",
    "\n",
    "    # Find out which columns are different\n",
    "    diff_df1 = columns_df1 - columns_df2\n",
    "    diff_df2 = columns_df2 - columns_df1\n",
    "\n",
    "    if diff_df1:\n",
    "        print(\"Columns in df1 not in df2:\", diff_df1)\n",
    "    if diff_df2:\n",
    "        print(\"Columns in df2 not in df1 (dropped):\", diff_df2)\n",
    "        df_kaggle.drop(diff_df2, axis=1, inplace=True)"
   ]
  },
  {
   "attachments": {},
   "cell_type": "markdown",
   "metadata": {},
   "source": [
    "## Train Test Split"
   ]
  },
  {
   "cell_type": "code",
   "execution_count": 16,
   "metadata": {},
   "outputs": [
    {
     "name": "stdout",
     "output_type": "stream",
     "text": [
      "X_train shape:  (17155, 98)\n",
      "y_train shape:  (17155,)\n",
      "X_test shape:  (4289, 98)\n",
      "y_test shape:  (4289,)\n",
      "X_test_kaggle shape:  (24556, 98)\n"
     ]
    }
   ],
   "source": [
    "train, val = train_test_split(df, test_size=0.2, random_state=42)\n",
    "\n",
    "X_train = train.drop(\"price_cleaned\", axis=1)\n",
    "y_train = train[\"price_cleaned\"]\n",
    "\n",
    "X_val= val.drop(\"price_cleaned\", axis=1)\n",
    "y_val = val[\"price_cleaned\"]\n",
    "\n",
    "X_test_kaggle = df_kaggle\n",
    "\n",
    "print(\"X_train shape: \", X_train.shape)\n",
    "print(\"y_train shape: \", y_train.shape)\n",
    "print(\"X_test shape: \", X_val.shape)\n",
    "print(\"y_test shape: \", y_val.shape)\n",
    "print(\"X_test_kaggle shape: \", X_test_kaggle.shape)"
   ]
  },
  {
   "attachments": {},
   "cell_type": "markdown",
   "metadata": {},
   "source": [
    "## Impuation"
   ]
  },
  {
   "cell_type": "code",
   "execution_count": 17,
   "metadata": {},
   "outputs": [],
   "source": [
    "cols = X_train.columns\n",
    "\n",
    "X_train_with_na = X_train.copy()\n",
    "X_val_with_na = X_val.copy()\n",
    "X_test_kaggle_with_na = X_test_kaggle.copy()\n",
    "X_test_kaggle_with_na = X_test_kaggle_with_na[cols]"
   ]
  },
  {
   "cell_type": "code",
   "execution_count": 18,
   "metadata": {},
   "outputs": [],
   "source": [
    "# imputer = KNNImputer(n_neighbors=5)\n",
    "\n",
    "# X_train_imputed = pd.DataFrame(imputer.fit_transform(X_train), columns=cols)\n",
    "# X_test_imputed = pd.DataFrame(imputer.transform(X_test), columns=cols)\n",
    "# X_test_kaggle_imputed = pd.DataFrame(imputer.fit_transform(df_kaggle), columns=cols)\n",
    "\n",
    "# # export imputed train and test data to csv so we dont always have to run the imputation\n",
    "# X_train_imputed.to_csv('../../../data/X_train_imputed.csv')\n",
    "# X_test_imputed.to_csv('../../../data/X_test_imputed.csv')\n",
    "# X_test_kaggle_imputed.to_csv('../../../data/X_test_kaggle_imputed.csv')\n",
    "\n",
    "# y_train.to_csv('../../../data/y_train.csv')\n",
    "# y_test.to_csv('../../../data/y_test.csv')"
   ]
  },
  {
   "cell_type": "code",
   "execution_count": 19,
   "metadata": {},
   "outputs": [],
   "source": [
    "# X_train_imputed = pd.read_csv('../../../data/X_train_imputed.csv', low_memory=False)\n",
    "# X_test_imputed = pd.read_csv('../../../data/X_test_imputed.csv', low_memory=False)\n",
    "# X_test_kaggle_imputed = pd.read_csv('../../../data/X_test_kaggle_imputed.csv', low_memory=False)\n",
    "# y_train = pd.read_csv('../../../data/y_train.csv', low_memory=False)\n",
    "# y_test = pd.read_csv('../../../data/y_test.csv', low_memory=False)\n",
    "\n",
    "# # ignore first column of X_train\n",
    "# X_train = X_train_imputed.iloc[:, 1:]\n",
    "\n",
    "# # ignore first column of X_test\n",
    "# X_test = X_test_imputed.iloc[:, 1:]\n",
    "\n",
    "# # ignore first column of X_test_kaggle\n",
    "# X_test_kaggle = X_test_kaggle_imputed.iloc[:, 1:]\n",
    "\n",
    "# # ignore first column of y_train\n",
    "# y_train = y_train.iloc[:, 1:].values.ravel()\n",
    "\n",
    "# # ignore first column of y_test\n",
    "# y_test = y_test.iloc[:, 1:].values.ravel()\n",
    "\n",
    "# print(\"X_train shape: \", X_train.shape)\n",
    "# print(\"y_train shape: \", y_train.shape)\n",
    "# print(\"X_test shape: \", X_test.shape)\n",
    "# print(\"y_test shape: \", y_test.shape)\n",
    "# print(\"X_test_kaggle shape: \", X_test_kaggle.shape)"
   ]
  },
  {
   "attachments": {},
   "cell_type": "markdown",
   "metadata": {},
   "source": [
    "## Standardisierung"
   ]
  },
  {
   "cell_type": "code",
   "execution_count": 20,
   "metadata": {},
   "outputs": [],
   "source": [
    "scaler = StandardScaler()\n",
    "\n",
    "# fit scaler on training data\n",
    "scaler = scaler.fit(X_train_with_na)\n",
    "\n",
    "X_train_with_na = pd.DataFrame(scaler.transform(X_train_with_na), columns=cols)\n",
    "X_val_with_na = pd.DataFrame(scaler.transform(X_val_with_na), columns=cols)\n",
    "X_test_kaggle_with_na = pd.DataFrame(scaler.transform(X_test_kaggle_with_na), columns=cols)"
   ]
  },
  {
   "attachments": {},
   "cell_type": "markdown",
   "metadata": {},
   "source": [
    "## Modelle"
   ]
  },
  {
   "attachments": {},
   "cell_type": "markdown",
   "metadata": {},
   "source": [
    "### Modell 4: XGBoost"
   ]
  },
  {
   "attachments": {},
   "cell_type": "markdown",
   "metadata": {},
   "source": [
    "[Dokumentation](https://xgboost.readthedocs.io/en/latest/)"
   ]
  },
  {
   "cell_type": "code",
   "execution_count": 237,
   "metadata": {},
   "outputs": [
    {
     "name": "stdout",
     "output_type": "stream",
     "text": [
      "Fitting 5 folds for each of 15 candidates, totalling 75 fits\n"
     ]
    },
    {
     "name": "stderr",
     "output_type": "stream",
     "text": [
      "/Users/alexanderschilling/anaconda3/lib/python3.11/site-packages/joblib/externals/loky/process_executor.py:702: UserWarning: A worker stopped while some jobs were given to the executor. This can be caused by a too short worker timeout or by a memory leak.\n",
      "  warnings.warn(\n"
     ]
    },
    {
     "name": "stdout",
     "output_type": "stream",
     "text": [
      "Best parameters: {'booster': 'gbtree', 'learning_rate': 0.2, 'max_depth': 12, 'random_state': 42}\n",
      "MAPE: 0.2587\n",
      "R2: 0.7851\n"
     ]
    }
   ],
   "source": [
    "def xgb_model(\n",
    "        X_train, \n",
    "        y_train, \n",
    "        X_test, \n",
    "        y_test, \n",
    "        cv,\n",
    "        max_depth,\n",
    "        learning_rate,\n",
    "        booster\n",
    "    ):\n",
    "    \n",
    "    xgb = XGBRegressor()\n",
    "\n",
    "    param_grid = {\n",
    "        'max_depth': max_depth,\n",
    "        'learning_rate': learning_rate,\n",
    "        'booster': booster,\n",
    "        'random_state': [42]\n",
    "    }\n",
    "\n",
    "    grid_xgb = GridSearchCV(xgb, param_grid, cv=cv, n_jobs=-1, scoring='neg_mean_absolute_percentage_error', verbose=1)\n",
    "\n",
    "    grid_xgb.fit(X_train, y_train)\n",
    "\n",
    "    best_params = grid_xgb.best_params_\n",
    "    print('Best parameters: {}'.format(best_params))\n",
    "\n",
    "    y_pred_xgb = grid_xgb.predict(X_test)\n",
    "\n",
    "    mape_xgb = round(mean_absolute_percentage_error(y_test, y_pred_xgb), 4)\n",
    "    print('MAPE: {}'.format(mape_xgb))\n",
    "\n",
    "    r2_xgb = round(r2_score(y_test, y_pred_xgb), 4)\n",
    "    print('R2: {}'.format(r2_xgb))\n",
    "\n",
    "    return grid_xgb, mape_xgb\n",
    "\n",
    "xgb_regression, mape_xgb = xgb_model(\n",
    "    X_train,\n",
    "    y_train,\n",
    "    X_test,\n",
    "    y_test,\n",
    "    cv=5,\n",
    "    max_depth = [None, 6, 9, 12, 15],\n",
    "    learning_rate = [0.01, 0.1, 0.2],\n",
    "    booster = ['gbtree']\n",
    ")"
   ]
  },
  {
   "attachments": {},
   "cell_type": "markdown",
   "metadata": {},
   "source": [
    "### Modell 5: XGBoost (Log-Transformiert)"
   ]
  },
  {
   "cell_type": "code",
   "execution_count": 238,
   "metadata": {},
   "outputs": [
    {
     "name": "stdout",
     "output_type": "stream",
     "text": [
      "Fitting 5 folds for each of 12 candidates, totalling 60 fits\n"
     ]
    },
    {
     "name": "stderr",
     "output_type": "stream",
     "text": [
      "/Users/alexanderschilling/anaconda3/lib/python3.11/site-packages/joblib/externals/loky/process_executor.py:702: UserWarning: A worker stopped while some jobs were given to the executor. This can be caused by a too short worker timeout or by a memory leak.\n",
      "  warnings.warn(\n"
     ]
    },
    {
     "name": "stdout",
     "output_type": "stream",
     "text": [
      "Best parameters: {'booster': 'gbtree', 'learning_rate': 0.1, 'max_depth': 12, 'random_state': 42}\n",
      "MAPE: 0.2315\n",
      "R2: 0.7798\n"
     ]
    }
   ],
   "source": [
    "def xgb_model(\n",
    "        X_train,\n",
    "        y_train,\n",
    "        X_test,\n",
    "        y_test,\n",
    "        cv,\n",
    "        max_depth,\n",
    "        learning_rate,\n",
    "        booster\n",
    "    ):\n",
    "\n",
    "    xgb = XGBRegressor()\n",
    "\n",
    "    param_grid = {\n",
    "        'max_depth': max_depth,\n",
    "        'learning_rate': learning_rate,\n",
    "        'booster': booster,\n",
    "        'random_state': [42]\n",
    "    }\n",
    "\n",
    "    grid_xgb = GridSearchCV(xgb, param_grid, cv=cv, n_jobs=-1, scoring='neg_mean_absolute_percentage_error', verbose=1)\n",
    "\n",
    "    grid_xgb.fit(X_train, np.log(y_train))\n",
    "\n",
    "    best_params = grid_xgb.best_params_\n",
    "    print('Best parameters: {}'.format(best_params))\n",
    "\n",
    "    y_pred_xgb = grid_xgb.predict(X_test)\n",
    "    y_pred_xgb = np.exp(y_pred_xgb)\n",
    "\n",
    "    mape_xgb = round(mean_absolute_percentage_error(y_test, y_pred_xgb), 4)\n",
    "    print('MAPE: {}'.format(mape_xgb))\n",
    "\n",
    "    r2_xgb = round(r2_score(y_test, y_pred_xgb), 4)\n",
    "    print('R2: {}'.format(r2_xgb))\n",
    "\n",
    "    return grid_xgb, mape_xgb\n",
    "\n",
    "xgb_regression_log, mape_xgb_log = xgb_model(\n",
    "    X_train,\n",
    "    y_train,\n",
    "    X_test,\n",
    "    y_test,\n",
    "    cv=5,\n",
    "    max_depth = [None, 6, 9, 12],\n",
    "    learning_rate = [0.01, 0.1, 0.3],\n",
    "    booster = ['gbtree']\n",
    ")"
   ]
  },
  {
   "attachments": {},
   "cell_type": "markdown",
   "metadata": {},
   "source": [
    "### Modell 6: Random Forest"
   ]
  },
  {
   "attachments": {},
   "cell_type": "markdown",
   "metadata": {},
   "source": [
    "[Dokumentation](https://scikit-learn.org/stable/modules/generated/sklearn.ensemble.RandomForestRegressor.html)"
   ]
  },
  {
   "cell_type": "code",
   "execution_count": 239,
   "metadata": {},
   "outputs": [
    {
     "name": "stdout",
     "output_type": "stream",
     "text": [
      "Fitting 5 folds for each of 1 candidates, totalling 5 fits\n",
      "Best parameters: {'random_state': 42}\n",
      "MAPE: 0.2775\n",
      "R2: 0.7967\n"
     ]
    }
   ],
   "source": [
    "def rf_model(\n",
    "        X_train, \n",
    "        y_train, \n",
    "        X_test, \n",
    "        y_test, \n",
    "        cv\n",
    "    ):\n",
    "\n",
    "    rf = RandomForestRegressor()\n",
    "\n",
    "    param_grid = {\n",
    "        'random_state': [42]\n",
    "    }\n",
    "\n",
    "    grid_rf = GridSearchCV(rf, param_grid, cv=cv, n_jobs=-1, scoring='neg_mean_absolute_percentage_error', verbose=1)\n",
    "\n",
    "    grid_rf.fit(X_train, y_train)\n",
    "\n",
    "    best_params = grid_rf.best_params_\n",
    "    print('Best parameters: {}'.format(best_params))\n",
    "\n",
    "    y_pred_rf = grid_rf.predict(X_test)\n",
    "\n",
    "    mape_rf = round(mean_absolute_percentage_error(y_test, y_pred_rf), 4)\n",
    "    print('MAPE: {}'.format(mape_rf))\n",
    "\n",
    "    r2_rf = round(r2_score(y_test, y_pred_rf), 4)\n",
    "    print('R2: {}'.format(r2_rf))\n",
    "\n",
    "    return grid_rf, mape_rf\n",
    "\n",
    "rf_regression, mape_rf = rf_model(\n",
    "    X_train,\n",
    "    y_train,\n",
    "    X_test,\n",
    "    y_test,\n",
    "    cv=5\n",
    ")"
   ]
  },
  {
   "attachments": {},
   "cell_type": "markdown",
   "metadata": {},
   "source": [
    "### Modell 7: Random Forest (Log-Transformiert)"
   ]
  },
  {
   "cell_type": "code",
   "execution_count": 240,
   "metadata": {},
   "outputs": [
    {
     "name": "stdout",
     "output_type": "stream",
     "text": [
      "Fitting 5 folds for each of 1 candidates, totalling 5 fits\n",
      "Best parameters: {'random_state': 42}\n",
      "MAPE: 0.2355\n",
      "R2: 0.79\n"
     ]
    }
   ],
   "source": [
    "def rf_model(\n",
    "        X_train,\n",
    "        y_train,\n",
    "        X_test,\n",
    "        y_test,\n",
    "        cv,\n",
    "    ):\n",
    "\n",
    "    rf = RandomForestRegressor()\n",
    "\n",
    "    param_grid = {\n",
    "        'random_state': [42],\n",
    "    }\n",
    "\n",
    "    grid_rf = GridSearchCV(rf, param_grid, cv=cv, n_jobs=-1, scoring='neg_mean_absolute_percentage_error', verbose=1)\n",
    "\n",
    "    grid_rf.fit(X_train, np.log(y_train))\n",
    "\n",
    "    best_params = grid_rf.best_params_\n",
    "    print('Best parameters: {}'.format(best_params))\n",
    "\n",
    "    y_pred_rf = grid_rf.predict(X_test)\n",
    "    y_pred_rf = np.exp(y_pred_rf)\n",
    "\n",
    "    mape_rf = round(mean_absolute_percentage_error(y_test, y_pred_rf), 4)\n",
    "    print('MAPE: {}'.format(mape_rf))\n",
    "\n",
    "    r2_rf = round(r2_score(y_test, y_pred_rf), 4)\n",
    "    print('R2: {}'.format(r2_rf))\n",
    "\n",
    "    return grid_rf, mape_rf\n",
    "\n",
    "rf_regression_log, mape_rf_log = rf_model(\n",
    "    X_train,\n",
    "    y_train,\n",
    "    X_test,\n",
    "    y_test,\n",
    "    cv=5\n",
    ")"
   ]
  },
  {
   "attachments": {},
   "cell_type": "markdown",
   "metadata": {},
   "source": [
    "### Modell 8: Hist Gradient Boosting Regression"
   ]
  },
  {
   "attachments": {},
   "cell_type": "markdown",
   "metadata": {},
   "source": [
    "[Dokumentation](https://scikit-learn.org/stable/modules/generated/sklearn.ensemble.HistGradientBoostingRegressor.html)"
   ]
  },
  {
   "cell_type": "code",
   "execution_count": 257,
   "metadata": {},
   "outputs": [
    {
     "name": "stdout",
     "output_type": "stream",
     "text": [
      "Fitting 5 folds for each of 1 candidates, totalling 5 fits\n",
      "Best parameters: {'l2_regularization': 0.1, 'learning_rate': 0.1, 'loss': 'gamma', 'max_depth': None, 'max_iter': 300, 'max_leaf_nodes': 70, 'random_state': 27}\n",
      "MAPE: 0.2484\n",
      "R2: 0.7836\n"
     ]
    }
   ],
   "source": [
    "def hgb_model(\n",
    "        X_train, \n",
    "        y_train, \n",
    "        X_test, \n",
    "        y_test, \n",
    "        cv, \n",
    "        loss,\n",
    "        learning_rate, \n",
    "        max_iter,\n",
    "        max_leaf_nodes,\n",
    "        max_depth, \n",
    "        l2_regularization, \n",
    "        random_state,\n",
    "    ):\n",
    "    \n",
    "    hgb = HistGradientBoostingRegressor()\n",
    "\n",
    "    param_grid = {\n",
    "        'loss': loss,\n",
    "        'learning_rate': learning_rate,\n",
    "        'max_iter': max_iter,\n",
    "        'max_leaf_nodes': max_leaf_nodes,\n",
    "        'max_depth': max_depth,\n",
    "        'l2_regularization': l2_regularization,\n",
    "        'random_state': random_state\n",
    "    }\n",
    "\n",
    "    grid_hgb = GridSearchCV(hgb, param_grid, cv=cv, n_jobs=-1, scoring='neg_mean_absolute_percentage_error', verbose=1)\n",
    "\n",
    "    grid_hgb.fit(X_train, y_train)\n",
    "\n",
    "    best_params = grid_hgb.best_params_\n",
    "    print('Best parameters: {}'.format(best_params))\n",
    "\n",
    "    y_pred_hgb = grid_hgb.predict(X_test)\n",
    "\n",
    "    mape_hgb = round(mean_absolute_percentage_error(y_test, y_pred_hgb), 4)\n",
    "    print('MAPE: {}'.format(mape_hgb))\n",
    "\n",
    "    r2_hgb = round(r2_score(y_test, y_pred_hgb), 4)\n",
    "    print('R2: {}'.format(r2_hgb))\n",
    "\n",
    "    return grid_hgb, mape_hgb\n",
    "\n",
    "hgb_regression, mape_hgb = hgb_model(\n",
    "    X_train,\n",
    "    y_train,\n",
    "    X_test,\n",
    "    y_test,\n",
    "    cv=5,\n",
    "    loss = ['gamma'],\n",
    "    learning_rate = [0.1],\n",
    "    max_iter = [300],\n",
    "    max_leaf_nodes = [70],\n",
    "    max_depth = [None],\n",
    "    l2_regularization = [0.1],\n",
    "    random_state = [27]\n",
    ")"
   ]
  },
  {
   "attachments": {},
   "cell_type": "markdown",
   "metadata": {},
   "source": [
    "### Modell 9: Hist Gradient Boosting Regression (Log-Transformiert)"
   ]
  },
  {
   "cell_type": "code",
   "execution_count": 35,
   "metadata": {},
   "outputs": [
    {
     "name": "stdout",
     "output_type": "stream",
     "text": [
      "Fitting 5 folds for each of 3 candidates, totalling 15 fits\n",
      "Best parameters: {'l2_regularization': 0.1, 'learning_rate': 0.1, 'loss': 'absolute_error', 'max_depth': None, 'max_iter': 300, 'max_leaf_nodes': 70, 'random_state': 42}\n",
      "MAPE: 0.3428\n",
      "R2: 0.6615\n"
     ]
    }
   ],
   "source": [
    "def hgb_model(\n",
    "        X_train, \n",
    "        y_train, \n",
    "        X_test, \n",
    "        y_test, \n",
    "        cv, \n",
    "        loss,\n",
    "        learning_rate, \n",
    "        max_iter,\n",
    "        max_leaf_nodes,\n",
    "        max_depth, \n",
    "        l2_regularization, \n",
    "        random_state,\n",
    "    ):\n",
    "    \n",
    "    hgb = HistGradientBoostingRegressor()\n",
    "\n",
    "    param_grid = {\n",
    "        'loss': loss,\n",
    "        'learning_rate': learning_rate,\n",
    "        'max_iter': max_iter,\n",
    "        'max_leaf_nodes': max_leaf_nodes,\n",
    "        'max_depth': max_depth,\n",
    "        'l2_regularization': l2_regularization,\n",
    "        'random_state': random_state\n",
    "    }\n",
    "\n",
    "    grid_hgb = GridSearchCV(hgb, param_grid, cv=cv, n_jobs=-1, scoring='neg_mean_absolute_percentage_error', verbose=1)\n",
    "\n",
    "    grid_hgb.fit(X_train, np.log(y_train))\n",
    "\n",
    "    best_params = grid_hgb.best_params_\n",
    "    print('Best parameters: {}'.format(best_params))\n",
    "\n",
    "    y_pred_hgb = grid_hgb.predict(X_test)\n",
    "    y_pred_hgb = np.exp(y_pred_hgb)\n",
    "\n",
    "    mape_hgb = round(mean_absolute_percentage_error(y_test, y_pred_hgb), 4)\n",
    "    print('MAPE: {}'.format(mape_hgb))\n",
    "\n",
    "    r2_hgb = round(r2_score(y_test, y_pred_hgb), 4)\n",
    "    print('R2: {}'.format(r2_hgb))\n",
    "\n",
    "    return grid_hgb, mape_hgb\n",
    "\n",
    "hgb_regression_log, mape_hgb_log = hgb_model(\n",
    "    X_train_with_na,\n",
    "    y_train,\n",
    "    X_val_with_na,\n",
    "    y_val,\n",
    "    cv=5,\n",
    "    loss = ['gamma'],\n",
    "    learning_rate = [0.1],\n",
    "    max_iter = [300],\n",
    "    max_leaf_nodes = [70],\n",
    "    max_depth = [None],\n",
    "    l2_regularization = [0.1],\n",
    "    random_state = [42]\n",
    ")"
   ]
  },
  {
   "attachments": {},
   "cell_type": "markdown",
   "metadata": {},
   "source": [
    "train and val together and then predict test data"
   ]
  },
  {
   "cell_type": "code",
   "execution_count": 33,
   "metadata": {},
   "outputs": [
    {
     "name": "stderr",
     "output_type": "stream",
     "text": [
      "/Users/alexanderschilling/anaconda3/lib/python3.11/site-packages/sklearn/base.py:457: UserWarning: X has feature names, but HistGradientBoostingRegressor was fitted without feature names\n",
      "  warnings.warn(\n"
     ]
    }
   ],
   "source": [
    "# train hgb_regression_log again with best parameters with X_train_with_na and X_val_with_na\n",
    "best_params = {\n",
    "    'l2_regularization': 0.2,\n",
    "    'learning_rate': 0.1,\n",
    "    'loss': 'gamma',\n",
    "    'max_depth': None,\n",
    "    'max_iter': 200,\n",
    "    'max_leaf_nodes': 100,\n",
    "    'random_state': 42\n",
    "}\n",
    "\n",
    "# Initialize the HistGradientBoostingRegressor with best parameters\n",
    "hgb_best = HistGradientBoostingRegressor(**best_params)\n",
    "\n",
    "# Combining the training and validation sets\n",
    "X_train_combined = np.vstack((X_train_with_na, X_val_with_na))\n",
    "y_train_combined = np.hstack((y_train, y_val))\n",
    "\n",
    "# Training the model on the combined dataset\n",
    "hgb_best.fit(X_train_combined, np.log(y_train_combined))\n",
    "\n",
    "# Making predictions on the test set\n",
    "y_pred_hgb_best = hgb_best.predict(X_test_kaggle_with_na)\n",
    "y_pred_hgb_best = np.exp(y_pred_hgb_best)\n",
    "\n",
    "predictions = pd.DataFrame({\"ID\": indexes, \"Expected\": y_pred_hgb_best})\n",
    "predictions.to_csv('../../99_gespeicherte_modelle/predictions_hgb_log.csv', index=False)"
   ]
  },
  {
   "attachments": {},
   "cell_type": "markdown",
   "metadata": {},
   "source": [
    "### Modell 10: Gradient Boosting Regression\n",
    "\n",
    "[Dokumentation](https://scikit-learn.org/stable/modules/generated/sklearn.ensemble.GradientBoostingRegressor.html)"
   ]
  },
  {
   "cell_type": "code",
   "execution_count": 244,
   "metadata": {},
   "outputs": [
    {
     "name": "stdout",
     "output_type": "stream",
     "text": [
      "Fitting 5 folds for each of 8 candidates, totalling 40 fits\n",
      "Best parameters: {'learning_rate': 0.1, 'max_depth': 9, 'random_state': 42}\n",
      "MAPE: 0.2664\n",
      "R2: 0.8031\n"
     ]
    }
   ],
   "source": [
    "def gb_model(\n",
    "        X_train,\n",
    "        y_train,\n",
    "        X_test,\n",
    "        y_test,\n",
    "        cv,\n",
    "        max_depth,\n",
    "        learning_rate,\n",
    "    ):\n",
    "\n",
    "    gb = GradientBoostingRegressor()\n",
    "\n",
    "    param_grid = {\n",
    "        'max_depth': max_depth,\n",
    "        'learning_rate': learning_rate,\n",
    "        'random_state': [42]\n",
    "    }\n",
    "\n",
    "    grid_gb = GridSearchCV(gb, param_grid, cv=cv, n_jobs=-1, scoring='neg_mean_absolute_percentage_error', verbose=1)\n",
    "\n",
    "    grid_gb.fit(X_train, y_train)\n",
    "\n",
    "    best_params = grid_gb.best_params_\n",
    "    print('Best parameters: {}'.format(best_params))\n",
    "\n",
    "    y_pred_gb = grid_gb.predict(X_test)\n",
    "\n",
    "    mape_gb = round(mean_absolute_percentage_error(y_test, y_pred_gb), 4)\n",
    "    print('MAPE: {}'.format(mape_gb))\n",
    "\n",
    "    r2_gb = round(r2_score(y_test, y_pred_gb), 4)\n",
    "    print('R2: {}'.format(r2_gb))\n",
    "\n",
    "    return grid_gb, mape_gb\n",
    "\n",
    "gb_regression, mape_gb = gb_model(\n",
    "    X_train,\n",
    "    y_train,\n",
    "    X_test,\n",
    "    y_test,\n",
    "    cv=5,\n",
    "    max_depth = [None, 3, 6, 9],\n",
    "    learning_rate = [0.01, 0.1],\n",
    ")"
   ]
  },
  {
   "attachments": {},
   "cell_type": "markdown",
   "metadata": {},
   "source": [
    "### Modell 11: Gradient Boosting Regression (Log-Transformiert)"
   ]
  },
  {
   "cell_type": "code",
   "execution_count": 245,
   "metadata": {},
   "outputs": [
    {
     "name": "stdout",
     "output_type": "stream",
     "text": [
      "Fitting 5 folds for each of 8 candidates, totalling 40 fits\n",
      "Best parameters: {'learning_rate': 0.1, 'max_depth': 9, 'random_state': 42}\n",
      "MAPE: 0.231\n",
      "R2: 0.804\n"
     ]
    }
   ],
   "source": [
    "def gb_model(\n",
    "        X_train,\n",
    "        y_train,\n",
    "        X_test,\n",
    "        y_test,\n",
    "        cv,\n",
    "        max_depth,\n",
    "        learning_rate\n",
    "    ):\n",
    "\n",
    "    gb = GradientBoostingRegressor()\n",
    "\n",
    "    param_grid = {\n",
    "        'max_depth': max_depth,\n",
    "        'learning_rate': learning_rate,\n",
    "        'random_state': [42]\n",
    "    }\n",
    "\n",
    "    grid_gb = GridSearchCV(gb, param_grid, cv=cv, n_jobs=-1, scoring='neg_mean_absolute_percentage_error', verbose=1)\n",
    "\n",
    "    grid_gb.fit(X_train, np.log(y_train))\n",
    "\n",
    "    best_params = grid_gb.best_params_\n",
    "    print('Best parameters: {}'.format(best_params))\n",
    "\n",
    "    y_pred_gb = grid_gb.predict(X_test)\n",
    "    y_pred_gb = np.exp(y_pred_gb)\n",
    "\n",
    "    mape_gb = round(mean_absolute_percentage_error(y_test, y_pred_gb), 4)\n",
    "    print('MAPE: {}'.format(mape_gb))\n",
    "\n",
    "    r2_gb = round(r2_score(y_test, y_pred_gb), 4)\n",
    "    print('R2: {}'.format(r2_gb))\n",
    "\n",
    "    return grid_gb, mape_gb\n",
    "\n",
    "gb_regression_log, mape_gb_log = gb_model(\n",
    "    X_train,\n",
    "    y_train,\n",
    "    X_test,\n",
    "    y_test,\n",
    "    cv=5,\n",
    "    max_depth = [None, 3, 6, 9],\n",
    "    learning_rate = [0.01, 0.1]\n",
    ")"
   ]
  },
  {
   "attachments": {},
   "cell_type": "markdown",
   "metadata": {},
   "source": [
    "## Kaggle Datensatz Predictions"
   ]
  },
  {
   "attachments": {},
   "cell_type": "markdown",
   "metadata": {},
   "source": [
    "### Predictions Visualisieren"
   ]
  },
  {
   "cell_type": "code",
   "execution_count": 28,
   "metadata": {},
   "outputs": [
    {
     "name": "stdout",
     "output_type": "stream",
     "text": [
      "93786.29573797173\n",
      "9420134.783385076\n"
     ]
    },
    {
     "data": {
      "image/png": "[encoded data removed]",
      "text/plain": [
       "<Figure size 640x480 with 1 Axes>"
      ]
     },
     "metadata": {},
     "output_type": "display_data"
    }
   ],
   "source": [
    "print(y_pred_hgb_best.min())\n",
    "print(y_pred_hgb_best.max())\n",
    "\n",
    "sns.histplot(y_pred_hgb_best)\n",
    "plt.show()"
   ]
  },
  {
   "attachments": {},
   "cell_type": "markdown",
   "metadata": {},
   "source": [
    "### Predictions from Best Model yet"
   ]
  },
  {
   "cell_type": "code",
   "execution_count": 648,
   "metadata": {},
   "outputs": [
    {
     "data": {
      "image/png": "[encoded data removed]",
      "text/plain": [
       "<Figure size 640x480 with 1 Axes>"
      ]
     },
     "metadata": {},
     "output_type": "display_data"
    },
    {
     "name": "stdout",
     "output_type": "stream",
     "text": [
      "60856.03785006363\n",
      "18110724.96709813\n",
      "1208242.344015116\n"
     ]
    }
   ],
   "source": [
    "pred_best = pd.read_csv('../../../data/predictions_best.csv')\n",
    "\n",
    "pred_best = pred_best[\"Expected\"]\n",
    "\n",
    "sns.histplot(pred_best)\n",
    "plt.show()\n",
    "\n",
    "print(pred_best.min())\n",
    "print(pred_best.max())"
   ]
  }
 ],
 "metadata": {
  "kernelspec": {
   "display_name": "base",
   "language": "python",
   "name": "python3"
  },
  "language_info": {
   "codemirror_mode": {
    "name": "ipython",
    "version": 3
   },
   "file_extension": ".py",
   "mimetype": "text/x-python",
   "name": "python",
   "nbconvert_exporter": "python",
   "pygments_lexer": "ipython3",
   "version": "3.11.5"
  },
  "orig_nbformat": 4,
  "vscode": {
   "interpreter": {
    "hash": "cd9c78cbb62892232a2e8cf9a4bd699d988202e949c50bb9be5232199c394801"
   }
  }
 },
 "nbformat": 4,
 "nbformat_minor": 2
}
